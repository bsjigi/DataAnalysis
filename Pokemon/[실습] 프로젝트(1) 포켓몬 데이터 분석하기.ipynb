{
 "cells": [
  {
   "cell_type": "markdown",
   "metadata": {},
   "source": [
    "# [실습] 프로젝트 (1) : 포켓몬 데이터 분석하기 \n",
    "## 포켓몬 데이터 뭉치에서 전설 포켓몬을 골라낼 수 있을까?"
   ]
  },
  {
   "cell_type": "markdown",
   "metadata": {},
   "source": [
    "데이터 분석 프로젝트를 통한 탐색적 데이터 분석(EDA) 연습하기"
   ]
  },
  {
   "cell_type": "markdown",
   "metadata": {},
   "source": [
    "### 학습 목표\n",
    "- 속성, 스탯 등 여러가지 데이터가 있는 포켓몬 데이터셋을 활용해서 `전설 포켓몬`의 특징을 파악합니다.\n",
    "- 데이터 분포를 확인하고, 변수간 관계를 파악하는 EDA를 통해 데이터 전체를 명확히 이해합니다.\n",
    "- EDA를 진행하는 과정에서 다양한 파이썬 함수 사용, 시각화 방법, 그래프 해석 방법을 학습합니다. "
   ]
  },
  {
   "cell_type": "markdown",
   "metadata": {},
   "source": [
    "---"
   ]
  },
  {
   "cell_type": "markdown",
   "metadata": {},
   "source": [
    "# Contents\n",
    "**1. [데이터 분석 준비하기](#1.-데이터-분석-준비하기)**   \n",
    "\n",
    "**2. [EDA #1: 전설 포켓몬 데이터 셋 분리하기](#2.EDA-#1:-전설-포켓몬-데이터-셋-분리하기)**   \n",
    "\n",
    "\n",
    "**3. [EDA #2: 모든 컬럼 뜯어보기](#3.-EDA-#2:-모든-컬럼-뜯어보기)**"
   ]
  },
  {
   "cell_type": "markdown",
   "metadata": {},
   "source": [
    "---"
   ]
  },
  {
   "cell_type": "markdown",
   "metadata": {},
   "source": [
    "## 1. 데이터 분석 준비하기"
   ]
  },
  {
   "cell_type": "markdown",
   "metadata": {},
   "source": [
    "본격적으로 데이터 분석 프로젝트를 시작하기에 앞서, 먼저 앞으로의 데이터 분석에 필요한 module을 import 해 봅니다.    \n",
    "1장에서 사용했던 데이터 분석을 위한 파이썬 라이브러리인 `numpy`, `pandas`, `matplotlib`, `seaborn` 을 사용해 보겠습니다."
   ]
  },
  {
   "cell_type": "markdown",
   "metadata": {},
   "source": [
    "### 1-1. Import Modules"
   ]
  },
  {
   "cell_type": "code",
   "execution_count": 1,
   "metadata": {},
   "outputs": [],
   "source": [
    "# numpy\n",
    "import numpy as np\n",
    "\n",
    "# pandas\n",
    "import pandas as pd\n",
    "\n",
    "# seaborn\n",
    "import seaborn as sns\n",
    "\n",
    "# matplotlib의 pyplot\n",
    "import matplotlib.pyplot as plt\n",
    "# matplotlib 시각화 결과를 jupyter notebook에서 바로 확인하기 위한 코드 작성 \n",
    "%matplotlib inline"
   ]
  },
  {
   "cell_type": "markdown",
   "metadata": {},
   "source": [
    "### 1-2. Load Dataset"
   ]
  },
  {
   "cell_type": "markdown",
   "metadata": {},
   "source": [
    "모듈 임포트를 완료하였다면, 이제 이번 프로젝트에서 사용할 포켓몬 데이터셋을 가져와 보겠습니다. \n",
    "\n",
    "데이터 출처 : [Kaggle(캐글)](https://www.kaggle.com/abcsds/pokemon) \n",
    "\n",
    "엘리스에서는 이번 프로젝트에서 사용할 포켓몬 데이터 셋을 이미 실습 파일 목록에 함께 업로드하였기 때문에    \n",
    "별개로 저장 및 업로드를 하시지 않아도 실습 진행이 가능합니다. "
   ]
  },
  {
   "cell_type": "markdown",
   "metadata": {},
   "source": [
    "**참고 - Dataset Description 살펴보기**"
   ]
  },
  {
   "cell_type": "markdown",
   "metadata": {},
   "source": [
    "```\n",
    "This data set includes 721 Pokemon, including their number, name, first and second type, and basic stats: HP, Attack, Defense, Special Attack, Special Defense, and Speed. It has been of great use when teaching statistics to kids. With certain types you can also give a geeky introduction to machine learning.\n",
    "\n",
    "이 데이터 셋에는 번호, 이름, 첫 번째 및 두 번째 유형 및 HP, 공격력, 방어력, 특수 공격, 특수 방어 및 속도와 같은 기본 통계를 포함한 721 개의 포켓몬이 포함되어 있습니다. 이 데이터 셋은 아이들에게 통계를 가르칠 때 매우 유용하며, 특정 유형의 경우 기계 학습(머신 러닝)에 대한 소개를 제공할 수 있습니다.\n",
    "\n",
    "This are the raw attributes that are used for calculating how much damage an attack will do in the games. This dataset is about the pokemon games (NOT pokemon cards or Pokemon Go).\n",
    "\n",
    "게임 내에서 공격이 얼마나 많은 피해를 줄지 계산하는 데 사용되는 기본 속성입니다. 이 데이터 셋은 포켓몬 게임에 관한 것입니다 (포켓몬 카드 또는 포켓몬 고에 관한 데이터는 아닙니다.)\n",
    "\n",
    "The data for this table has been acquired from several different sites, including:\n",
    "\n",
    "pokemon.com\n",
    "pokemondb\n",
    "bulbapedia\n",
    "\n",
    "이 테이블의 데이터는 다음을 포함하여 여러 다른 사이트에서 얻었습니다.\n",
    "\n",
    "One question has been answered with this database: The type of a pokemon cannot be inferred only by it's Attack and Deffence. It would be worthy to find which two variables can define the type of a pokemon, if any. Two variables can be plotted in a 2D space, and used as an example for machine learning. This could mean the creation of a visual example any geeky Machine Learning class would love.\n",
    "\n",
    "이 데이터베이스에 대한 질문과 그에 대한 답은 다음과 같습니다 : 포켓몬의 유형은 공격과 방어만으로 유추 할 수 없습니다. 포켓몬의 유형을 정의 할 수있는 두 변수를 찾는 것이 좋습니다. 2D 공간에 2 개의 변수를 시각화 할 수 있으며 이는 기계 학습(머신 러닝)의 예시로 사용됩니다. 이것은 머신 러닝 수업에서 좋아할만한 시각적 인 예를 만들어내는 것을 의미 할 수 있습니다.\n",
    "```\n"
   ]
  },
  {
   "cell_type": "markdown",
   "metadata": {},
   "source": [
    "본격적으로 파이썬 라이브러리인 `pandas`를 활용해 데이터를 가져와봅니다."
   ]
  },
  {
   "cell_type": "code",
   "execution_count": 3,
   "metadata": {},
   "outputs": [
    {
     "name": "stdout",
     "output_type": "stream",
     "text": [
      "(800, 13)\n"
     ]
    },
    {
     "data": {
      "text/html": [
       "<div>\n",
       "<style scoped>\n",
       "    .dataframe tbody tr th:only-of-type {\n",
       "        vertical-align: middle;\n",
       "    }\n",
       "\n",
       "    .dataframe tbody tr th {\n",
       "        vertical-align: top;\n",
       "    }\n",
       "\n",
       "    .dataframe thead th {\n",
       "        text-align: right;\n",
       "    }\n",
       "</style>\n",
       "<table border=\"1\" class=\"dataframe\">\n",
       "  <thead>\n",
       "    <tr style=\"text-align: right;\">\n",
       "      <th></th>\n",
       "      <th>#</th>\n",
       "      <th>Name</th>\n",
       "      <th>Type 1</th>\n",
       "      <th>Type 2</th>\n",
       "      <th>Total</th>\n",
       "      <th>HP</th>\n",
       "      <th>Attack</th>\n",
       "      <th>Defense</th>\n",
       "      <th>Sp. Atk</th>\n",
       "      <th>Sp. Def</th>\n",
       "      <th>Speed</th>\n",
       "      <th>Generation</th>\n",
       "      <th>Legendary</th>\n",
       "    </tr>\n",
       "  </thead>\n",
       "  <tbody>\n",
       "    <tr>\n",
       "      <th>0</th>\n",
       "      <td>1</td>\n",
       "      <td>Bulbasaur</td>\n",
       "      <td>Grass</td>\n",
       "      <td>Poison</td>\n",
       "      <td>318</td>\n",
       "      <td>45</td>\n",
       "      <td>49</td>\n",
       "      <td>49</td>\n",
       "      <td>65</td>\n",
       "      <td>65</td>\n",
       "      <td>45</td>\n",
       "      <td>1</td>\n",
       "      <td>False</td>\n",
       "    </tr>\n",
       "    <tr>\n",
       "      <th>1</th>\n",
       "      <td>2</td>\n",
       "      <td>Ivysaur</td>\n",
       "      <td>Grass</td>\n",
       "      <td>Poison</td>\n",
       "      <td>405</td>\n",
       "      <td>60</td>\n",
       "      <td>62</td>\n",
       "      <td>63</td>\n",
       "      <td>80</td>\n",
       "      <td>80</td>\n",
       "      <td>60</td>\n",
       "      <td>1</td>\n",
       "      <td>False</td>\n",
       "    </tr>\n",
       "    <tr>\n",
       "      <th>2</th>\n",
       "      <td>3</td>\n",
       "      <td>Venusaur</td>\n",
       "      <td>Grass</td>\n",
       "      <td>Poison</td>\n",
       "      <td>525</td>\n",
       "      <td>80</td>\n",
       "      <td>82</td>\n",
       "      <td>83</td>\n",
       "      <td>100</td>\n",
       "      <td>100</td>\n",
       "      <td>80</td>\n",
       "      <td>1</td>\n",
       "      <td>False</td>\n",
       "    </tr>\n",
       "    <tr>\n",
       "      <th>3</th>\n",
       "      <td>3</td>\n",
       "      <td>VenusaurMega Venusaur</td>\n",
       "      <td>Grass</td>\n",
       "      <td>Poison</td>\n",
       "      <td>625</td>\n",
       "      <td>80</td>\n",
       "      <td>100</td>\n",
       "      <td>123</td>\n",
       "      <td>122</td>\n",
       "      <td>120</td>\n",
       "      <td>80</td>\n",
       "      <td>1</td>\n",
       "      <td>False</td>\n",
       "    </tr>\n",
       "    <tr>\n",
       "      <th>4</th>\n",
       "      <td>4</td>\n",
       "      <td>Charmander</td>\n",
       "      <td>Fire</td>\n",
       "      <td>NaN</td>\n",
       "      <td>309</td>\n",
       "      <td>39</td>\n",
       "      <td>52</td>\n",
       "      <td>43</td>\n",
       "      <td>60</td>\n",
       "      <td>50</td>\n",
       "      <td>65</td>\n",
       "      <td>1</td>\n",
       "      <td>False</td>\n",
       "    </tr>\n",
       "  </tbody>\n",
       "</table>\n",
       "</div>"
      ],
      "text/plain": [
       "   #                   Name Type 1  Type 2  Total  HP  Attack  Defense  \\\n",
       "0  1              Bulbasaur  Grass  Poison    318  45      49       49   \n",
       "1  2                Ivysaur  Grass  Poison    405  60      62       63   \n",
       "2  3               Venusaur  Grass  Poison    525  80      82       83   \n",
       "3  3  VenusaurMega Venusaur  Grass  Poison    625  80     100      123   \n",
       "4  4             Charmander   Fire     NaN    309  39      52       43   \n",
       "\n",
       "   Sp. Atk  Sp. Def  Speed  Generation  Legendary  \n",
       "0       65       65     45           1      False  \n",
       "1       80       80     60           1      False  \n",
       "2      100      100     80           1      False  \n",
       "3      122      120     80           1      False  \n",
       "4       60       50     65           1      False  "
      ]
     },
     "execution_count": 3,
     "metadata": {},
     "output_type": "execute_result"
    }
   ],
   "source": [
    "# read_csv로 csv 파일을 불러옵니다.pandas를 활용해 데이터를 가져와보도록 하겠습니다.\n",
    "data = pd.read_csv('Pokemon.csv')\n",
    "pkemon = data\n",
    "# 데이터프레임의 크기를 확인합니다.\n",
    "print(pkemon.shape)\n",
    "\n",
    "# 데이터프레임 상위 5개 값 확인\n",
    "pkemon.head()"
   ]
  },
  {
   "cell_type": "markdown",
   "metadata": {},
   "source": [
    "전체 데이터는 **800개**로 800마리의 포켓몬 데이터가 있고, 각 포켓몬의 속성은 총 **13개**로 구성되어있음을 shape 함수를 통해 확인할 수 있습니다."
   ]
  },
  {
   "cell_type": "markdown",
   "metadata": {},
   "source": [
    "#### 각 컬럼에 대한 설명\n",
    "각 컬럼이 나타내는 바는 다음과 같습니다.  \n",
    "\n",
    "변수명 | 의미 \n",
    "- | - \n",
    "**#** | <center>포켓몬 Id number</center> \n",
    "**Name** | <center>포켓몬의 이름</center> \n",
    "**Type 1** | <center>첫 번째 속성</center>   \n",
    "**Type 2** | <center>두 번째 속성</center> \n",
    "**Total** | <center>전체 6가지 스탯의 총합</center> \n",
    "**HP** | <center>포켓몬의 체력</center> \n",
    "**Attack** | <center>물리공격력 (scratch, punch 등)</center>  \n",
    "**Defense** | <center>물리공격에 대한 방어력</center> \n",
    "**Sp. Atk** | <center>특수공격력 (fire blast, bubble beam 등)</center>  \n",
    "**Sp. Def** | <center>특수공격에 대한 방어력.</center> \n",
    "**Speed** | <center>포켓몬 매치에 대해 어떤 포켓몬이 먼저 공격할지를 결정.<br>(더 높은 포켓몬이 먼저 공격한다)</center>  \n",
    "**Generation** | <center>포켓몬의 세대. 현재 데이터에는 6세대까지 있다.</center>  \n",
    "**Legendary** | <center>전설의 포켓몬 여부. **!! Target feature !!**</center>  "
   ]
  },
  {
   "cell_type": "markdown",
   "metadata": {},
   "source": [
    "### 1-3. 데이터 기본 확인 및 전처리하기"
   ]
  },
  {
   "cell_type": "code",
   "execution_count": 4,
   "metadata": {},
   "outputs": [
    {
     "name": "stdout",
     "output_type": "stream",
     "text": [
      "<class 'pandas.core.frame.DataFrame'>\n",
      "RangeIndex: 800 entries, 0 to 799\n",
      "Data columns (total 13 columns):\n",
      "#             800 non-null int64\n",
      "Name          800 non-null object\n",
      "Type 1        800 non-null object\n",
      "Type 2        414 non-null object\n",
      "Total         800 non-null int64\n",
      "HP            800 non-null int64\n",
      "Attack        800 non-null int64\n",
      "Defense       800 non-null int64\n",
      "Sp. Atk       800 non-null int64\n",
      "Sp. Def       800 non-null int64\n",
      "Speed         800 non-null int64\n",
      "Generation    800 non-null int64\n",
      "Legendary     800 non-null bool\n",
      "dtypes: bool(1), int64(9), object(3)\n",
      "memory usage: 75.9+ KB\n"
     ]
    }
   ],
   "source": [
    "# info 확인하기\n",
    "pkemon.info()"
   ]
  },
  {
   "cell_type": "markdown",
   "metadata": {},
   "source": [
    "결측치를 제거해야 할지 여부를 결정하기 위해 `Type 2` 컬럼을 조금 더 자세히 살펴보겠습니다. "
   ]
  },
  {
   "cell_type": "markdown",
   "metadata": {},
   "source": [
    "#### 결측치 확인하기"
   ]
  },
  {
   "cell_type": "code",
   "execution_count": 7,
   "metadata": {},
   "outputs": [
    {
     "data": {
      "text/plain": [
       "#               0\n",
       "Name            0\n",
       "Type 1          0\n",
       "Type 2        386\n",
       "Total           0\n",
       "HP              0\n",
       "Attack          0\n",
       "Defense         0\n",
       "Sp. Atk         0\n",
       "Sp. Def         0\n",
       "Speed           0\n",
       "Generation      0\n",
       "Legendary       0\n",
       "dtype: int64"
      ]
     },
     "execution_count": 7,
     "metadata": {},
     "output_type": "execute_result"
    }
   ],
   "source": [
    "# 컬럼별 결측치 한번 더 확인해보기\n",
    "pkemon.isnull()\n",
    "pkemon.isnull().sum()"
   ]
  },
  {
   "cell_type": "code",
   "execution_count": 8,
   "metadata": {},
   "outputs": [
    {
     "data": {
      "text/html": [
       "<div>\n",
       "<style scoped>\n",
       "    .dataframe tbody tr th:only-of-type {\n",
       "        vertical-align: middle;\n",
       "    }\n",
       "\n",
       "    .dataframe tbody tr th {\n",
       "        vertical-align: top;\n",
       "    }\n",
       "\n",
       "    .dataframe thead th {\n",
       "        text-align: right;\n",
       "    }\n",
       "</style>\n",
       "<table border=\"1\" class=\"dataframe\">\n",
       "  <thead>\n",
       "    <tr style=\"text-align: right;\">\n",
       "      <th></th>\n",
       "      <th>#</th>\n",
       "      <th>Name</th>\n",
       "      <th>Type 1</th>\n",
       "      <th>Type 2</th>\n",
       "      <th>Total</th>\n",
       "      <th>HP</th>\n",
       "      <th>Attack</th>\n",
       "      <th>Defense</th>\n",
       "      <th>Sp. Atk</th>\n",
       "      <th>Sp. Def</th>\n",
       "      <th>Speed</th>\n",
       "      <th>Generation</th>\n",
       "      <th>Legendary</th>\n",
       "    </tr>\n",
       "  </thead>\n",
       "  <tbody>\n",
       "    <tr>\n",
       "      <th>4</th>\n",
       "      <td>4</td>\n",
       "      <td>Charmander</td>\n",
       "      <td>Fire</td>\n",
       "      <td>NaN</td>\n",
       "      <td>309</td>\n",
       "      <td>39</td>\n",
       "      <td>52</td>\n",
       "      <td>43</td>\n",
       "      <td>60</td>\n",
       "      <td>50</td>\n",
       "      <td>65</td>\n",
       "      <td>1</td>\n",
       "      <td>False</td>\n",
       "    </tr>\n",
       "    <tr>\n",
       "      <th>5</th>\n",
       "      <td>5</td>\n",
       "      <td>Charmeleon</td>\n",
       "      <td>Fire</td>\n",
       "      <td>NaN</td>\n",
       "      <td>405</td>\n",
       "      <td>58</td>\n",
       "      <td>64</td>\n",
       "      <td>58</td>\n",
       "      <td>80</td>\n",
       "      <td>65</td>\n",
       "      <td>80</td>\n",
       "      <td>1</td>\n",
       "      <td>False</td>\n",
       "    </tr>\n",
       "    <tr>\n",
       "      <th>9</th>\n",
       "      <td>7</td>\n",
       "      <td>Squirtle</td>\n",
       "      <td>Water</td>\n",
       "      <td>NaN</td>\n",
       "      <td>314</td>\n",
       "      <td>44</td>\n",
       "      <td>48</td>\n",
       "      <td>65</td>\n",
       "      <td>50</td>\n",
       "      <td>64</td>\n",
       "      <td>43</td>\n",
       "      <td>1</td>\n",
       "      <td>False</td>\n",
       "    </tr>\n",
       "    <tr>\n",
       "      <th>10</th>\n",
       "      <td>8</td>\n",
       "      <td>Wartortle</td>\n",
       "      <td>Water</td>\n",
       "      <td>NaN</td>\n",
       "      <td>405</td>\n",
       "      <td>59</td>\n",
       "      <td>63</td>\n",
       "      <td>80</td>\n",
       "      <td>65</td>\n",
       "      <td>80</td>\n",
       "      <td>58</td>\n",
       "      <td>1</td>\n",
       "      <td>False</td>\n",
       "    </tr>\n",
       "    <tr>\n",
       "      <th>11</th>\n",
       "      <td>9</td>\n",
       "      <td>Blastoise</td>\n",
       "      <td>Water</td>\n",
       "      <td>NaN</td>\n",
       "      <td>530</td>\n",
       "      <td>79</td>\n",
       "      <td>83</td>\n",
       "      <td>100</td>\n",
       "      <td>85</td>\n",
       "      <td>105</td>\n",
       "      <td>78</td>\n",
       "      <td>1</td>\n",
       "      <td>False</td>\n",
       "    </tr>\n",
       "  </tbody>\n",
       "</table>\n",
       "</div>"
      ],
      "text/plain": [
       "    #        Name Type 1 Type 2  Total  HP  Attack  Defense  Sp. Atk  Sp. Def  \\\n",
       "4   4  Charmander   Fire    NaN    309  39      52       43       60       50   \n",
       "5   5  Charmeleon   Fire    NaN    405  58      64       58       80       65   \n",
       "9   7    Squirtle  Water    NaN    314  44      48       65       50       64   \n",
       "10  8   Wartortle  Water    NaN    405  59      63       80       65       80   \n",
       "11  9   Blastoise  Water    NaN    530  79      83      100       85      105   \n",
       "\n",
       "    Speed  Generation  Legendary  \n",
       "4      65           1      False  \n",
       "5      80           1      False  \n",
       "9      43           1      False  \n",
       "10     58           1      False  \n",
       "11     78           1      False  "
      ]
     },
     "execution_count": 8,
     "metadata": {},
     "output_type": "execute_result"
    }
   ],
   "source": [
    "# 직접 결측된 데이터를 눈으로 확인해보기\n",
    "pkemon[pkemon['Type 2'].isnull()].head()"
   ]
  },
  {
   "cell_type": "markdown",
   "metadata": {},
   "source": [
    "- Type 2가 결측되어 있어도 다른 컬럼에 대한 정보는 모두 채워져 있기 때문에 바로 제거하자는 주장을 펼치기엔 위험 가능성이 너무 크겠군요!"
   ]
  },
  {
   "cell_type": "markdown",
   "metadata": {},
   "source": [
    "---"
   ]
  },
  {
   "cell_type": "markdown",
   "metadata": {},
   "source": [
    "## 2. EDA #1: 전설 포켓몬 데이터 셋 분리하기"
   ]
  },
  {
   "cell_type": "markdown",
   "metadata": {},
   "source": [
    "전설 포켓몬과 일반 포켓몬 데이터를 분리하여 각각 다른 변수에 저장해보겠습니다.    \n",
    "전설 포켓몬인지에 대한 정보가 저장되어 있는 컬럼, 즉 `Legendary`(전설의 포켓몬인지 아닌지의 여부) 값을 활용하면 \n",
    "쉽게 분리할 수 있습니다."
   ]
  },
  {
   "cell_type": "code",
   "execution_count": 10,
   "metadata": {},
   "outputs": [
    {
     "name": "stdout",
     "output_type": "stream",
     "text": [
      "(65, 13)\n"
     ]
    },
    {
     "data": {
      "text/html": [
       "<div>\n",
       "<style scoped>\n",
       "    .dataframe tbody tr th:only-of-type {\n",
       "        vertical-align: middle;\n",
       "    }\n",
       "\n",
       "    .dataframe tbody tr th {\n",
       "        vertical-align: top;\n",
       "    }\n",
       "\n",
       "    .dataframe thead th {\n",
       "        text-align: right;\n",
       "    }\n",
       "</style>\n",
       "<table border=\"1\" class=\"dataframe\">\n",
       "  <thead>\n",
       "    <tr style=\"text-align: right;\">\n",
       "      <th></th>\n",
       "      <th>#</th>\n",
       "      <th>Name</th>\n",
       "      <th>Type 1</th>\n",
       "      <th>Type 2</th>\n",
       "      <th>Total</th>\n",
       "      <th>HP</th>\n",
       "      <th>Attack</th>\n",
       "      <th>Defense</th>\n",
       "      <th>Sp. Atk</th>\n",
       "      <th>Sp. Def</th>\n",
       "      <th>Speed</th>\n",
       "      <th>Generation</th>\n",
       "      <th>Legendary</th>\n",
       "    </tr>\n",
       "  </thead>\n",
       "  <tbody>\n",
       "    <tr>\n",
       "      <th>0</th>\n",
       "      <td>144</td>\n",
       "      <td>Articuno</td>\n",
       "      <td>Ice</td>\n",
       "      <td>Flying</td>\n",
       "      <td>580</td>\n",
       "      <td>90</td>\n",
       "      <td>85</td>\n",
       "      <td>100</td>\n",
       "      <td>95</td>\n",
       "      <td>125</td>\n",
       "      <td>85</td>\n",
       "      <td>1</td>\n",
       "      <td>True</td>\n",
       "    </tr>\n",
       "    <tr>\n",
       "      <th>1</th>\n",
       "      <td>145</td>\n",
       "      <td>Zapdos</td>\n",
       "      <td>Electric</td>\n",
       "      <td>Flying</td>\n",
       "      <td>580</td>\n",
       "      <td>90</td>\n",
       "      <td>90</td>\n",
       "      <td>85</td>\n",
       "      <td>125</td>\n",
       "      <td>90</td>\n",
       "      <td>100</td>\n",
       "      <td>1</td>\n",
       "      <td>True</td>\n",
       "    </tr>\n",
       "    <tr>\n",
       "      <th>2</th>\n",
       "      <td>146</td>\n",
       "      <td>Moltres</td>\n",
       "      <td>Fire</td>\n",
       "      <td>Flying</td>\n",
       "      <td>580</td>\n",
       "      <td>90</td>\n",
       "      <td>100</td>\n",
       "      <td>90</td>\n",
       "      <td>125</td>\n",
       "      <td>85</td>\n",
       "      <td>90</td>\n",
       "      <td>1</td>\n",
       "      <td>True</td>\n",
       "    </tr>\n",
       "    <tr>\n",
       "      <th>3</th>\n",
       "      <td>150</td>\n",
       "      <td>Mewtwo</td>\n",
       "      <td>Psychic</td>\n",
       "      <td>NaN</td>\n",
       "      <td>680</td>\n",
       "      <td>106</td>\n",
       "      <td>110</td>\n",
       "      <td>90</td>\n",
       "      <td>154</td>\n",
       "      <td>90</td>\n",
       "      <td>130</td>\n",
       "      <td>1</td>\n",
       "      <td>True</td>\n",
       "    </tr>\n",
       "    <tr>\n",
       "      <th>4</th>\n",
       "      <td>150</td>\n",
       "      <td>MewtwoMega Mewtwo X</td>\n",
       "      <td>Psychic</td>\n",
       "      <td>Fighting</td>\n",
       "      <td>780</td>\n",
       "      <td>106</td>\n",
       "      <td>190</td>\n",
       "      <td>100</td>\n",
       "      <td>154</td>\n",
       "      <td>100</td>\n",
       "      <td>130</td>\n",
       "      <td>1</td>\n",
       "      <td>True</td>\n",
       "    </tr>\n",
       "  </tbody>\n",
       "</table>\n",
       "</div>"
      ],
      "text/plain": [
       "     #                 Name    Type 1    Type 2  Total   HP  Attack  Defense  \\\n",
       "0  144             Articuno       Ice    Flying    580   90      85      100   \n",
       "1  145               Zapdos  Electric    Flying    580   90      90       85   \n",
       "2  146              Moltres      Fire    Flying    580   90     100       90   \n",
       "3  150               Mewtwo   Psychic       NaN    680  106     110       90   \n",
       "4  150  MewtwoMega Mewtwo X   Psychic  Fighting    780  106     190      100   \n",
       "\n",
       "   Sp. Atk  Sp. Def  Speed  Generation  Legendary  \n",
       "0       95      125     85           1       True  \n",
       "1      125       90    100           1       True  \n",
       "2      125       85     90           1       True  \n",
       "3      154       90    130           1       True  \n",
       "4      154      100    130           1       True  "
      ]
     },
     "execution_count": 10,
     "metadata": {},
     "output_type": "execute_result"
    }
   ],
   "source": [
    "# Legendary 컬럼 값이 True 인 경우 legendary 변수에 저장하기\n",
    "legendary = pkemon[pkemon[\"Legendary\"] == True].reset_index(drop=True)\n",
    "\n",
    "# 데이터프레임의 크기를 확인합니다.\n",
    "print(legendary.shape)\n",
    "\n",
    "# 데이터프레임 상위 5개 값 확인\n",
    "legendary.head()"
   ]
  },
  {
   "cell_type": "markdown",
   "metadata": {},
   "source": [
    "- 전체 데이터 개수가 800개였던 것을 기억해보면, 전설 포켓몬은 800개 중 65개밖에 존재하지 않음을 확인했습니다. "
   ]
  },
  {
   "cell_type": "markdown",
   "metadata": {},
   "source": [
    "전체 데이터 개수 중 전설 포켓몬 데이터의 비율을 간단한 코드 작성을 통해 확인해보겠습니다. "
   ]
  },
  {
   "cell_type": "code",
   "execution_count": 15,
   "metadata": {},
   "outputs": [
    {
     "name": "stdout",
     "output_type": "stream",
     "text": [
      "전체 데이터 중 전설 포켓몬 데이터 비율 : 8.125% \n"
     ]
    }
   ],
   "source": [
    "# 전체 데이터 중 전설 포켓몬 데이터의 비율을 출력해봅니다.\n",
    "print(\"전체 데이터 중 전설 포켓몬 데이터 비율 : {}% \".format((legendary.shape[0]/pkemon.shape[0])*100))"
   ]
  },
  {
   "cell_type": "markdown",
   "metadata": {},
   "source": [
    "나머지 일반 포켓몬 데이터를 분리해보겠습니다. "
   ]
  },
  {
   "cell_type": "code",
   "execution_count": 17,
   "metadata": {},
   "outputs": [
    {
     "name": "stdout",
     "output_type": "stream",
     "text": [
      "(735, 13)\n"
     ]
    },
    {
     "data": {
      "text/html": [
       "<div>\n",
       "<style scoped>\n",
       "    .dataframe tbody tr th:only-of-type {\n",
       "        vertical-align: middle;\n",
       "    }\n",
       "\n",
       "    .dataframe tbody tr th {\n",
       "        vertical-align: top;\n",
       "    }\n",
       "\n",
       "    .dataframe thead th {\n",
       "        text-align: right;\n",
       "    }\n",
       "</style>\n",
       "<table border=\"1\" class=\"dataframe\">\n",
       "  <thead>\n",
       "    <tr style=\"text-align: right;\">\n",
       "      <th></th>\n",
       "      <th>#</th>\n",
       "      <th>Name</th>\n",
       "      <th>Type 1</th>\n",
       "      <th>Type 2</th>\n",
       "      <th>Total</th>\n",
       "      <th>HP</th>\n",
       "      <th>Attack</th>\n",
       "      <th>Defense</th>\n",
       "      <th>Sp. Atk</th>\n",
       "      <th>Sp. Def</th>\n",
       "      <th>Speed</th>\n",
       "      <th>Generation</th>\n",
       "      <th>Legendary</th>\n",
       "    </tr>\n",
       "  </thead>\n",
       "  <tbody>\n",
       "    <tr>\n",
       "      <th>0</th>\n",
       "      <td>1</td>\n",
       "      <td>Bulbasaur</td>\n",
       "      <td>Grass</td>\n",
       "      <td>Poison</td>\n",
       "      <td>318</td>\n",
       "      <td>45</td>\n",
       "      <td>49</td>\n",
       "      <td>49</td>\n",
       "      <td>65</td>\n",
       "      <td>65</td>\n",
       "      <td>45</td>\n",
       "      <td>1</td>\n",
       "      <td>False</td>\n",
       "    </tr>\n",
       "    <tr>\n",
       "      <th>1</th>\n",
       "      <td>2</td>\n",
       "      <td>Ivysaur</td>\n",
       "      <td>Grass</td>\n",
       "      <td>Poison</td>\n",
       "      <td>405</td>\n",
       "      <td>60</td>\n",
       "      <td>62</td>\n",
       "      <td>63</td>\n",
       "      <td>80</td>\n",
       "      <td>80</td>\n",
       "      <td>60</td>\n",
       "      <td>1</td>\n",
       "      <td>False</td>\n",
       "    </tr>\n",
       "    <tr>\n",
       "      <th>2</th>\n",
       "      <td>3</td>\n",
       "      <td>Venusaur</td>\n",
       "      <td>Grass</td>\n",
       "      <td>Poison</td>\n",
       "      <td>525</td>\n",
       "      <td>80</td>\n",
       "      <td>82</td>\n",
       "      <td>83</td>\n",
       "      <td>100</td>\n",
       "      <td>100</td>\n",
       "      <td>80</td>\n",
       "      <td>1</td>\n",
       "      <td>False</td>\n",
       "    </tr>\n",
       "    <tr>\n",
       "      <th>3</th>\n",
       "      <td>3</td>\n",
       "      <td>VenusaurMega Venusaur</td>\n",
       "      <td>Grass</td>\n",
       "      <td>Poison</td>\n",
       "      <td>625</td>\n",
       "      <td>80</td>\n",
       "      <td>100</td>\n",
       "      <td>123</td>\n",
       "      <td>122</td>\n",
       "      <td>120</td>\n",
       "      <td>80</td>\n",
       "      <td>1</td>\n",
       "      <td>False</td>\n",
       "    </tr>\n",
       "    <tr>\n",
       "      <th>4</th>\n",
       "      <td>4</td>\n",
       "      <td>Charmander</td>\n",
       "      <td>Fire</td>\n",
       "      <td>NaN</td>\n",
       "      <td>309</td>\n",
       "      <td>39</td>\n",
       "      <td>52</td>\n",
       "      <td>43</td>\n",
       "      <td>60</td>\n",
       "      <td>50</td>\n",
       "      <td>65</td>\n",
       "      <td>1</td>\n",
       "      <td>False</td>\n",
       "    </tr>\n",
       "  </tbody>\n",
       "</table>\n",
       "</div>"
      ],
      "text/plain": [
       "   #                   Name Type 1  Type 2  Total  HP  Attack  Defense  \\\n",
       "0  1              Bulbasaur  Grass  Poison    318  45      49       49   \n",
       "1  2                Ivysaur  Grass  Poison    405  60      62       63   \n",
       "2  3               Venusaur  Grass  Poison    525  80      82       83   \n",
       "3  3  VenusaurMega Venusaur  Grass  Poison    625  80     100      123   \n",
       "4  4             Charmander   Fire     NaN    309  39      52       43   \n",
       "\n",
       "   Sp. Atk  Sp. Def  Speed  Generation  Legendary  \n",
       "0       65       65     45           1      False  \n",
       "1       80       80     60           1      False  \n",
       "2      100      100     80           1      False  \n",
       "3      122      120     80           1      False  \n",
       "4       60       50     65           1      False  "
      ]
     },
     "execution_count": 17,
     "metadata": {},
     "output_type": "execute_result"
    }
   ],
   "source": [
    "# 일반 포켓몬 데이터를 분리하여 변수에 저장하기\n",
    "ordinary = pkemon[pkemon[\"Legendary\"] == False].reset_index(drop=True)\n",
    "\n",
    "# 데이터프레임 크기 확인하기\n",
    "print(ordinary.shape)\n",
    "\n",
    "# 상위 5개 값 확인하기\n",
    "ordinary.head()"
   ]
  },
  {
   "cell_type": "markdown",
   "metadata": {},
   "source": [
    "## 3. EDA #2: 모든 컬럼 뜯어보기"
   ]
  },
  {
   "cell_type": "markdown",
   "metadata": {},
   "source": [
    "그럼 이제 본격적으로 데이터 내에 존재하는 각 컬럼을 하나씩 살펴보도록 하겠습니다.    \n",
    "\n",
    "먼저 전체 컬럼 이름을 확인해보겠습니다. "
   ]
  },
  {
   "cell_type": "code",
   "execution_count": 18,
   "metadata": {},
   "outputs": [
    {
     "name": "stdout",
     "output_type": "stream",
     "text": [
      "13\n"
     ]
    },
    {
     "data": {
      "text/plain": [
       "Index(['#', 'Name', 'Type 1', 'Type 2', 'Total', 'HP', 'Attack', 'Defense',\n",
       "       'Sp. Atk', 'Sp. Def', 'Speed', 'Generation', 'Legendary'],\n",
       "      dtype='object')"
      ]
     },
     "execution_count": 18,
     "metadata": {},
     "output_type": "execute_result"
    }
   ],
   "source": [
    "# pkemon 데이터셋 컬럼 출력하기\n",
    "print(len(pkemon.columns))\n",
    "pkemon.columns"
   ]
  },
  {
   "cell_type": "markdown",
   "metadata": {},
   "source": [
    "- 전체 13개 컬럼이 존재하고, 각 컬럼명을 list로 확인해보았습니다. "
   ]
  },
  {
   "cell_type": "markdown",
   "metadata": {},
   "source": [
    "### (1) 첫 번째 컬럼  `#` : id number"
   ]
  },
  {
   "cell_type": "code",
   "execution_count": 19,
   "metadata": {},
   "outputs": [
    {
     "data": {
      "text/plain": [
       "721"
      ]
     },
     "execution_count": 19,
     "metadata": {},
     "output_type": "execute_result"
    }
   ],
   "source": [
    "# 총 몇개의 #(id number)값이 있는지 확인해보기\n",
    "len(pkemon['#'].unique())"
   ]
  },
  {
   "cell_type": "markdown",
   "metadata": {},
   "source": [
    "- 전체 데이터는 총 800개인데 `#` 컬럼값 그보다 작은 **721개**의 데이터를 가집니다.     "
   ]
  },
  {
   "cell_type": "code",
   "execution_count": 20,
   "metadata": {
    "scrolled": true
   },
   "outputs": [
    {
     "data": {
      "text/plain": [
       "479    6\n",
       "386    4\n",
       "711    4\n",
       "710    4\n",
       "150    3\n",
       "6      3\n",
       "413    3\n",
       "646    3\n",
       "303    2\n",
       "302    2\n",
       "648    2\n",
       "65     2\n",
       "555    2\n",
       "487    2\n",
       "308    2\n",
       "254    2\n",
       "306    2\n",
       "310    2\n",
       "492    2\n",
       "214    2\n",
       "384    2\n",
       "383    2\n",
       "382    2\n",
       "647    2\n",
       "641    2\n",
       "645    2\n",
       "94     2\n",
       "115    2\n",
       "445    2\n",
       "257    2\n",
       "      ..\n",
       "455    1\n",
       "454    1\n",
       "453    1\n",
       "452    1\n",
       "451    1\n",
       "450    1\n",
       "449    1\n",
       "447    1\n",
       "467    1\n",
       "468    1\n",
       "469    1\n",
       "470    1\n",
       "490    1\n",
       "489    1\n",
       "488    1\n",
       "486    1\n",
       "485    1\n",
       "484    1\n",
       "483    1\n",
       "482    1\n",
       "481    1\n",
       "480    1\n",
       "478    1\n",
       "477    1\n",
       "476    1\n",
       "474    1\n",
       "473    1\n",
       "472    1\n",
       "471    1\n",
       "1      1\n",
       "Name: #, Length: 721, dtype: int64"
      ]
     },
     "execution_count": 20,
     "metadata": {},
     "output_type": "execute_result"
    }
   ],
   "source": [
    "# 같은 #(id number)값을 가지는 데이터 빈도 수 확인을 통해 알아보기\n",
    "pkemon['#'].value_counts()"
   ]
  },
  {
   "cell_type": "markdown",
   "metadata": {},
   "source": [
    "- #(id number) 479번 데이터가 6개 있네요, 이 데이터를 출력해보며 실제로 눈으로 확인해보겠습니다.   "
   ]
  },
  {
   "cell_type": "code",
   "execution_count": 21,
   "metadata": {},
   "outputs": [
    {
     "data": {
      "text/html": [
       "<div>\n",
       "<style scoped>\n",
       "    .dataframe tbody tr th:only-of-type {\n",
       "        vertical-align: middle;\n",
       "    }\n",
       "\n",
       "    .dataframe tbody tr th {\n",
       "        vertical-align: top;\n",
       "    }\n",
       "\n",
       "    .dataframe thead th {\n",
       "        text-align: right;\n",
       "    }\n",
       "</style>\n",
       "<table border=\"1\" class=\"dataframe\">\n",
       "  <thead>\n",
       "    <tr style=\"text-align: right;\">\n",
       "      <th></th>\n",
       "      <th>#</th>\n",
       "      <th>Name</th>\n",
       "      <th>Type 1</th>\n",
       "      <th>Type 2</th>\n",
       "      <th>Total</th>\n",
       "      <th>HP</th>\n",
       "      <th>Attack</th>\n",
       "      <th>Defense</th>\n",
       "      <th>Sp. Atk</th>\n",
       "      <th>Sp. Def</th>\n",
       "      <th>Speed</th>\n",
       "      <th>Generation</th>\n",
       "      <th>Legendary</th>\n",
       "    </tr>\n",
       "  </thead>\n",
       "  <tbody>\n",
       "    <tr>\n",
       "      <th>531</th>\n",
       "      <td>479</td>\n",
       "      <td>Rotom</td>\n",
       "      <td>Electric</td>\n",
       "      <td>Ghost</td>\n",
       "      <td>440</td>\n",
       "      <td>50</td>\n",
       "      <td>50</td>\n",
       "      <td>77</td>\n",
       "      <td>95</td>\n",
       "      <td>77</td>\n",
       "      <td>91</td>\n",
       "      <td>4</td>\n",
       "      <td>False</td>\n",
       "    </tr>\n",
       "    <tr>\n",
       "      <th>532</th>\n",
       "      <td>479</td>\n",
       "      <td>RotomHeat Rotom</td>\n",
       "      <td>Electric</td>\n",
       "      <td>Fire</td>\n",
       "      <td>520</td>\n",
       "      <td>50</td>\n",
       "      <td>65</td>\n",
       "      <td>107</td>\n",
       "      <td>105</td>\n",
       "      <td>107</td>\n",
       "      <td>86</td>\n",
       "      <td>4</td>\n",
       "      <td>False</td>\n",
       "    </tr>\n",
       "    <tr>\n",
       "      <th>533</th>\n",
       "      <td>479</td>\n",
       "      <td>RotomWash Rotom</td>\n",
       "      <td>Electric</td>\n",
       "      <td>Water</td>\n",
       "      <td>520</td>\n",
       "      <td>50</td>\n",
       "      <td>65</td>\n",
       "      <td>107</td>\n",
       "      <td>105</td>\n",
       "      <td>107</td>\n",
       "      <td>86</td>\n",
       "      <td>4</td>\n",
       "      <td>False</td>\n",
       "    </tr>\n",
       "    <tr>\n",
       "      <th>534</th>\n",
       "      <td>479</td>\n",
       "      <td>RotomFrost Rotom</td>\n",
       "      <td>Electric</td>\n",
       "      <td>Ice</td>\n",
       "      <td>520</td>\n",
       "      <td>50</td>\n",
       "      <td>65</td>\n",
       "      <td>107</td>\n",
       "      <td>105</td>\n",
       "      <td>107</td>\n",
       "      <td>86</td>\n",
       "      <td>4</td>\n",
       "      <td>False</td>\n",
       "    </tr>\n",
       "    <tr>\n",
       "      <th>535</th>\n",
       "      <td>479</td>\n",
       "      <td>RotomFan Rotom</td>\n",
       "      <td>Electric</td>\n",
       "      <td>Flying</td>\n",
       "      <td>520</td>\n",
       "      <td>50</td>\n",
       "      <td>65</td>\n",
       "      <td>107</td>\n",
       "      <td>105</td>\n",
       "      <td>107</td>\n",
       "      <td>86</td>\n",
       "      <td>4</td>\n",
       "      <td>False</td>\n",
       "    </tr>\n",
       "    <tr>\n",
       "      <th>536</th>\n",
       "      <td>479</td>\n",
       "      <td>RotomMow Rotom</td>\n",
       "      <td>Electric</td>\n",
       "      <td>Grass</td>\n",
       "      <td>520</td>\n",
       "      <td>50</td>\n",
       "      <td>65</td>\n",
       "      <td>107</td>\n",
       "      <td>105</td>\n",
       "      <td>107</td>\n",
       "      <td>86</td>\n",
       "      <td>4</td>\n",
       "      <td>False</td>\n",
       "    </tr>\n",
       "  </tbody>\n",
       "</table>\n",
       "</div>"
      ],
      "text/plain": [
       "       #              Name    Type 1  Type 2  Total  HP  Attack  Defense  \\\n",
       "531  479             Rotom  Electric   Ghost    440  50      50       77   \n",
       "532  479   RotomHeat Rotom  Electric    Fire    520  50      65      107   \n",
       "533  479   RotomWash Rotom  Electric   Water    520  50      65      107   \n",
       "534  479  RotomFrost Rotom  Electric     Ice    520  50      65      107   \n",
       "535  479    RotomFan Rotom  Electric  Flying    520  50      65      107   \n",
       "536  479    RotomMow Rotom  Electric   Grass    520  50      65      107   \n",
       "\n",
       "     Sp. Atk  Sp. Def  Speed  Generation  Legendary  \n",
       "531       95       77     91           4      False  \n",
       "532      105      107     86           4      False  \n",
       "533      105      107     86           4      False  \n",
       "534      105      107     86           4      False  \n",
       "535      105      107     86           4      False  \n",
       "536      105      107     86           4      False  "
      ]
     },
     "execution_count": 21,
     "metadata": {},
     "output_type": "execute_result"
    }
   ],
   "source": [
    "# id number 479번 확인하기\n",
    "pkemon[pkemon['#']==479]"
   ]
  },
  {
   "cell_type": "markdown",
   "metadata": {},
   "source": [
    "- `Rotom` 이라고 하는 동일한 이름에서 `RotomHeat` , `RotomWash`, `RotomFrost` 와 같은 단어들이 앞에 붙어 있는 포켓몬들이 동일한 id number로 존재하는 것을 확인할 수 있습니다. \n",
    "- 다른 중복값도 한번 살펴볼까요?"
   ]
  },
  {
   "cell_type": "code",
   "execution_count": 23,
   "metadata": {},
   "outputs": [
    {
     "data": {
      "text/html": [
       "<div>\n",
       "<style scoped>\n",
       "    .dataframe tbody tr th:only-of-type {\n",
       "        vertical-align: middle;\n",
       "    }\n",
       "\n",
       "    .dataframe tbody tr th {\n",
       "        vertical-align: top;\n",
       "    }\n",
       "\n",
       "    .dataframe thead th {\n",
       "        text-align: right;\n",
       "    }\n",
       "</style>\n",
       "<table border=\"1\" class=\"dataframe\">\n",
       "  <thead>\n",
       "    <tr style=\"text-align: right;\">\n",
       "      <th></th>\n",
       "      <th>#</th>\n",
       "      <th>Name</th>\n",
       "      <th>Type 1</th>\n",
       "      <th>Type 2</th>\n",
       "      <th>Total</th>\n",
       "      <th>HP</th>\n",
       "      <th>Attack</th>\n",
       "      <th>Defense</th>\n",
       "      <th>Sp. Atk</th>\n",
       "      <th>Sp. Def</th>\n",
       "      <th>Speed</th>\n",
       "      <th>Generation</th>\n",
       "      <th>Legendary</th>\n",
       "    </tr>\n",
       "  </thead>\n",
       "  <tbody>\n",
       "    <tr>\n",
       "      <th>428</th>\n",
       "      <td>386</td>\n",
       "      <td>DeoxysNormal Forme</td>\n",
       "      <td>Psychic</td>\n",
       "      <td>NaN</td>\n",
       "      <td>600</td>\n",
       "      <td>50</td>\n",
       "      <td>150</td>\n",
       "      <td>50</td>\n",
       "      <td>150</td>\n",
       "      <td>50</td>\n",
       "      <td>150</td>\n",
       "      <td>3</td>\n",
       "      <td>True</td>\n",
       "    </tr>\n",
       "    <tr>\n",
       "      <th>429</th>\n",
       "      <td>386</td>\n",
       "      <td>DeoxysAttack Forme</td>\n",
       "      <td>Psychic</td>\n",
       "      <td>NaN</td>\n",
       "      <td>600</td>\n",
       "      <td>50</td>\n",
       "      <td>180</td>\n",
       "      <td>20</td>\n",
       "      <td>180</td>\n",
       "      <td>20</td>\n",
       "      <td>150</td>\n",
       "      <td>3</td>\n",
       "      <td>True</td>\n",
       "    </tr>\n",
       "    <tr>\n",
       "      <th>430</th>\n",
       "      <td>386</td>\n",
       "      <td>DeoxysDefense Forme</td>\n",
       "      <td>Psychic</td>\n",
       "      <td>NaN</td>\n",
       "      <td>600</td>\n",
       "      <td>50</td>\n",
       "      <td>70</td>\n",
       "      <td>160</td>\n",
       "      <td>70</td>\n",
       "      <td>160</td>\n",
       "      <td>90</td>\n",
       "      <td>3</td>\n",
       "      <td>True</td>\n",
       "    </tr>\n",
       "    <tr>\n",
       "      <th>431</th>\n",
       "      <td>386</td>\n",
       "      <td>DeoxysSpeed Forme</td>\n",
       "      <td>Psychic</td>\n",
       "      <td>NaN</td>\n",
       "      <td>600</td>\n",
       "      <td>50</td>\n",
       "      <td>95</td>\n",
       "      <td>90</td>\n",
       "      <td>95</td>\n",
       "      <td>90</td>\n",
       "      <td>180</td>\n",
       "      <td>3</td>\n",
       "      <td>True</td>\n",
       "    </tr>\n",
       "  </tbody>\n",
       "</table>\n",
       "</div>"
      ],
      "text/plain": [
       "       #                 Name   Type 1 Type 2  Total  HP  Attack  Defense  \\\n",
       "428  386   DeoxysNormal Forme  Psychic    NaN    600  50     150       50   \n",
       "429  386   DeoxysAttack Forme  Psychic    NaN    600  50     180       20   \n",
       "430  386  DeoxysDefense Forme  Psychic    NaN    600  50      70      160   \n",
       "431  386    DeoxysSpeed Forme  Psychic    NaN    600  50      95       90   \n",
       "\n",
       "     Sp. Atk  Sp. Def  Speed  Generation  Legendary  \n",
       "428      150       50    150           3       True  \n",
       "429      180       20    150           3       True  \n",
       "430       70      160     90           3       True  \n",
       "431       95       90    180           3       True  "
      ]
     },
     "execution_count": 23,
     "metadata": {},
     "output_type": "execute_result"
    }
   ],
   "source": [
    "# id number 386번 확인하기\n",
    "pkemon[pkemon['#']==386]"
   ]
  },
  {
   "cell_type": "markdown",
   "metadata": {},
   "source": [
    "- id number 가 386번인 경우도 동일한 단어들이 이름 내에 포함되어 있는 것을 확인할 수 있습니다. "
   ]
  },
  {
   "cell_type": "markdown",
   "metadata": {},
   "source": [
    "### (2) 두 번째 컬럼 `Name` : 이름"
   ]
  },
  {
   "cell_type": "code",
   "execution_count": 24,
   "metadata": {},
   "outputs": [
    {
     "data": {
      "text/plain": [
       "800"
      ]
     },
     "execution_count": 24,
     "metadata": {},
     "output_type": "execute_result"
    }
   ],
   "source": [
    "# 총 몇 개의 이름이 있는지 확인해보기\n",
    "len(pkemon[\"Name\"].unique())"
   ]
  },
  {
   "cell_type": "markdown",
   "metadata": {},
   "source": [
    "- 이름 컬럼의 고유 값의 개수는 데이터셋 전체 크기와 동일한 800개로, 이는 모든 포켓몬의 이름이 동일하지 않음을 의미합니다. "
   ]
  },
  {
   "cell_type": "markdown",
   "metadata": {},
   "source": [
    "#### 특정 단어가 들어가있는 이름"
   ]
  },
  {
   "cell_type": "code",
   "execution_count": 25,
   "metadata": {},
   "outputs": [],
   "source": [
    "# 바로 확인해보자\n",
    "\n",
    "# 이름이 비슷한 전설의 포켓몬들의 모임 names\n",
    "n1, n2, n3, n4, n5 = legendary[3:6], legendary[14:24], legendary[25:29], legendary[46:50], legendary[52:57]\n",
    "names = pd.concat([n1, n2, n3, n4, n5]).reset_index(drop=True)"
   ]
  },
  {
   "cell_type": "markdown",
   "metadata": {},
   "source": [
    "먼저, 위에서 중복된 #(id number)컬럼을 통해 확인했듯이 전설의 포켓몬 중에는 이름이 한 이름에서 파생되어 만들어진 이름들이 있죠. "
   ]
  },
  {
   "cell_type": "code",
   "execution_count": 26,
   "metadata": {},
   "outputs": [
    {
     "data": {
      "text/html": [
       "<div>\n",
       "<style scoped>\n",
       "    .dataframe tbody tr th:only-of-type {\n",
       "        vertical-align: middle;\n",
       "    }\n",
       "\n",
       "    .dataframe tbody tr th {\n",
       "        vertical-align: top;\n",
       "    }\n",
       "\n",
       "    .dataframe thead th {\n",
       "        text-align: right;\n",
       "    }\n",
       "</style>\n",
       "<table border=\"1\" class=\"dataframe\">\n",
       "  <thead>\n",
       "    <tr style=\"text-align: right;\">\n",
       "      <th></th>\n",
       "      <th>#</th>\n",
       "      <th>Name</th>\n",
       "      <th>Type 1</th>\n",
       "      <th>Type 2</th>\n",
       "      <th>Total</th>\n",
       "      <th>HP</th>\n",
       "      <th>Attack</th>\n",
       "      <th>Defense</th>\n",
       "      <th>Sp. Atk</th>\n",
       "      <th>Sp. Def</th>\n",
       "      <th>Speed</th>\n",
       "      <th>Generation</th>\n",
       "      <th>Legendary</th>\n",
       "    </tr>\n",
       "  </thead>\n",
       "  <tbody>\n",
       "    <tr>\n",
       "      <th>0</th>\n",
       "      <td>150</td>\n",
       "      <td>Mewtwo</td>\n",
       "      <td>Psychic</td>\n",
       "      <td>NaN</td>\n",
       "      <td>680</td>\n",
       "      <td>106</td>\n",
       "      <td>110</td>\n",
       "      <td>90</td>\n",
       "      <td>154</td>\n",
       "      <td>90</td>\n",
       "      <td>130</td>\n",
       "      <td>1</td>\n",
       "      <td>True</td>\n",
       "    </tr>\n",
       "    <tr>\n",
       "      <th>1</th>\n",
       "      <td>150</td>\n",
       "      <td>MewtwoMega Mewtwo X</td>\n",
       "      <td>Psychic</td>\n",
       "      <td>Fighting</td>\n",
       "      <td>780</td>\n",
       "      <td>106</td>\n",
       "      <td>190</td>\n",
       "      <td>100</td>\n",
       "      <td>154</td>\n",
       "      <td>100</td>\n",
       "      <td>130</td>\n",
       "      <td>1</td>\n",
       "      <td>True</td>\n",
       "    </tr>\n",
       "    <tr>\n",
       "      <th>2</th>\n",
       "      <td>150</td>\n",
       "      <td>MewtwoMega Mewtwo Y</td>\n",
       "      <td>Psychic</td>\n",
       "      <td>NaN</td>\n",
       "      <td>780</td>\n",
       "      <td>106</td>\n",
       "      <td>150</td>\n",
       "      <td>70</td>\n",
       "      <td>194</td>\n",
       "      <td>120</td>\n",
       "      <td>140</td>\n",
       "      <td>1</td>\n",
       "      <td>True</td>\n",
       "    </tr>\n",
       "    <tr>\n",
       "      <th>3</th>\n",
       "      <td>380</td>\n",
       "      <td>Latias</td>\n",
       "      <td>Dragon</td>\n",
       "      <td>Psychic</td>\n",
       "      <td>600</td>\n",
       "      <td>80</td>\n",
       "      <td>80</td>\n",
       "      <td>90</td>\n",
       "      <td>110</td>\n",
       "      <td>130</td>\n",
       "      <td>110</td>\n",
       "      <td>3</td>\n",
       "      <td>True</td>\n",
       "    </tr>\n",
       "    <tr>\n",
       "      <th>4</th>\n",
       "      <td>380</td>\n",
       "      <td>LatiasMega Latias</td>\n",
       "      <td>Dragon</td>\n",
       "      <td>Psychic</td>\n",
       "      <td>700</td>\n",
       "      <td>80</td>\n",
       "      <td>100</td>\n",
       "      <td>120</td>\n",
       "      <td>140</td>\n",
       "      <td>150</td>\n",
       "      <td>110</td>\n",
       "      <td>3</td>\n",
       "      <td>True</td>\n",
       "    </tr>\n",
       "    <tr>\n",
       "      <th>5</th>\n",
       "      <td>381</td>\n",
       "      <td>Latios</td>\n",
       "      <td>Dragon</td>\n",
       "      <td>Psychic</td>\n",
       "      <td>600</td>\n",
       "      <td>80</td>\n",
       "      <td>90</td>\n",
       "      <td>80</td>\n",
       "      <td>130</td>\n",
       "      <td>110</td>\n",
       "      <td>110</td>\n",
       "      <td>3</td>\n",
       "      <td>True</td>\n",
       "    </tr>\n",
       "    <tr>\n",
       "      <th>6</th>\n",
       "      <td>381</td>\n",
       "      <td>LatiosMega Latios</td>\n",
       "      <td>Dragon</td>\n",
       "      <td>Psychic</td>\n",
       "      <td>700</td>\n",
       "      <td>80</td>\n",
       "      <td>130</td>\n",
       "      <td>100</td>\n",
       "      <td>160</td>\n",
       "      <td>120</td>\n",
       "      <td>110</td>\n",
       "      <td>3</td>\n",
       "      <td>True</td>\n",
       "    </tr>\n",
       "    <tr>\n",
       "      <th>7</th>\n",
       "      <td>382</td>\n",
       "      <td>Kyogre</td>\n",
       "      <td>Water</td>\n",
       "      <td>NaN</td>\n",
       "      <td>670</td>\n",
       "      <td>100</td>\n",
       "      <td>100</td>\n",
       "      <td>90</td>\n",
       "      <td>150</td>\n",
       "      <td>140</td>\n",
       "      <td>90</td>\n",
       "      <td>3</td>\n",
       "      <td>True</td>\n",
       "    </tr>\n",
       "    <tr>\n",
       "      <th>8</th>\n",
       "      <td>382</td>\n",
       "      <td>KyogrePrimal Kyogre</td>\n",
       "      <td>Water</td>\n",
       "      <td>NaN</td>\n",
       "      <td>770</td>\n",
       "      <td>100</td>\n",
       "      <td>150</td>\n",
       "      <td>90</td>\n",
       "      <td>180</td>\n",
       "      <td>160</td>\n",
       "      <td>90</td>\n",
       "      <td>3</td>\n",
       "      <td>True</td>\n",
       "    </tr>\n",
       "    <tr>\n",
       "      <th>9</th>\n",
       "      <td>383</td>\n",
       "      <td>Groudon</td>\n",
       "      <td>Ground</td>\n",
       "      <td>NaN</td>\n",
       "      <td>670</td>\n",
       "      <td>100</td>\n",
       "      <td>150</td>\n",
       "      <td>140</td>\n",
       "      <td>100</td>\n",
       "      <td>90</td>\n",
       "      <td>90</td>\n",
       "      <td>3</td>\n",
       "      <td>True</td>\n",
       "    </tr>\n",
       "    <tr>\n",
       "      <th>10</th>\n",
       "      <td>383</td>\n",
       "      <td>GroudonPrimal Groudon</td>\n",
       "      <td>Ground</td>\n",
       "      <td>Fire</td>\n",
       "      <td>770</td>\n",
       "      <td>100</td>\n",
       "      <td>180</td>\n",
       "      <td>160</td>\n",
       "      <td>150</td>\n",
       "      <td>90</td>\n",
       "      <td>90</td>\n",
       "      <td>3</td>\n",
       "      <td>True</td>\n",
       "    </tr>\n",
       "    <tr>\n",
       "      <th>11</th>\n",
       "      <td>384</td>\n",
       "      <td>Rayquaza</td>\n",
       "      <td>Dragon</td>\n",
       "      <td>Flying</td>\n",
       "      <td>680</td>\n",
       "      <td>105</td>\n",
       "      <td>150</td>\n",
       "      <td>90</td>\n",
       "      <td>150</td>\n",
       "      <td>90</td>\n",
       "      <td>95</td>\n",
       "      <td>3</td>\n",
       "      <td>True</td>\n",
       "    </tr>\n",
       "    <tr>\n",
       "      <th>12</th>\n",
       "      <td>384</td>\n",
       "      <td>RayquazaMega Rayquaza</td>\n",
       "      <td>Dragon</td>\n",
       "      <td>Flying</td>\n",
       "      <td>780</td>\n",
       "      <td>105</td>\n",
       "      <td>180</td>\n",
       "      <td>100</td>\n",
       "      <td>180</td>\n",
       "      <td>100</td>\n",
       "      <td>115</td>\n",
       "      <td>3</td>\n",
       "      <td>True</td>\n",
       "    </tr>\n",
       "    <tr>\n",
       "      <th>13</th>\n",
       "      <td>646</td>\n",
       "      <td>Kyurem</td>\n",
       "      <td>Dragon</td>\n",
       "      <td>Ice</td>\n",
       "      <td>660</td>\n",
       "      <td>125</td>\n",
       "      <td>130</td>\n",
       "      <td>90</td>\n",
       "      <td>130</td>\n",
       "      <td>90</td>\n",
       "      <td>95</td>\n",
       "      <td>5</td>\n",
       "      <td>True</td>\n",
       "    </tr>\n",
       "    <tr>\n",
       "      <th>14</th>\n",
       "      <td>646</td>\n",
       "      <td>KyuremBlack Kyurem</td>\n",
       "      <td>Dragon</td>\n",
       "      <td>Ice</td>\n",
       "      <td>700</td>\n",
       "      <td>125</td>\n",
       "      <td>170</td>\n",
       "      <td>100</td>\n",
       "      <td>120</td>\n",
       "      <td>90</td>\n",
       "      <td>95</td>\n",
       "      <td>5</td>\n",
       "      <td>True</td>\n",
       "    </tr>\n",
       "    <tr>\n",
       "      <th>15</th>\n",
       "      <td>646</td>\n",
       "      <td>KyuremWhite Kyurem</td>\n",
       "      <td>Dragon</td>\n",
       "      <td>Ice</td>\n",
       "      <td>700</td>\n",
       "      <td>125</td>\n",
       "      <td>120</td>\n",
       "      <td>90</td>\n",
       "      <td>170</td>\n",
       "      <td>100</td>\n",
       "      <td>95</td>\n",
       "      <td>5</td>\n",
       "      <td>True</td>\n",
       "    </tr>\n",
       "  </tbody>\n",
       "</table>\n",
       "</div>"
      ],
      "text/plain": [
       "      #                   Name   Type 1    Type 2  Total   HP  Attack  \\\n",
       "0   150                 Mewtwo  Psychic       NaN    680  106     110   \n",
       "1   150    MewtwoMega Mewtwo X  Psychic  Fighting    780  106     190   \n",
       "2   150    MewtwoMega Mewtwo Y  Psychic       NaN    780  106     150   \n",
       "3   380                 Latias   Dragon   Psychic    600   80      80   \n",
       "4   380      LatiasMega Latias   Dragon   Psychic    700   80     100   \n",
       "5   381                 Latios   Dragon   Psychic    600   80      90   \n",
       "6   381      LatiosMega Latios   Dragon   Psychic    700   80     130   \n",
       "7   382                 Kyogre    Water       NaN    670  100     100   \n",
       "8   382    KyogrePrimal Kyogre    Water       NaN    770  100     150   \n",
       "9   383                Groudon   Ground       NaN    670  100     150   \n",
       "10  383  GroudonPrimal Groudon   Ground      Fire    770  100     180   \n",
       "11  384               Rayquaza   Dragon    Flying    680  105     150   \n",
       "12  384  RayquazaMega Rayquaza   Dragon    Flying    780  105     180   \n",
       "13  646                 Kyurem   Dragon       Ice    660  125     130   \n",
       "14  646     KyuremBlack Kyurem   Dragon       Ice    700  125     170   \n",
       "15  646     KyuremWhite Kyurem   Dragon       Ice    700  125     120   \n",
       "\n",
       "    Defense  Sp. Atk  Sp. Def  Speed  Generation  Legendary  \n",
       "0        90      154       90    130           1       True  \n",
       "1       100      154      100    130           1       True  \n",
       "2        70      194      120    140           1       True  \n",
       "3        90      110      130    110           3       True  \n",
       "4       120      140      150    110           3       True  \n",
       "5        80      130      110    110           3       True  \n",
       "6       100      160      120    110           3       True  \n",
       "7        90      150      140     90           3       True  \n",
       "8        90      180      160     90           3       True  \n",
       "9       140      100       90     90           3       True  \n",
       "10      160      150       90     90           3       True  \n",
       "11       90      150       90     95           3       True  \n",
       "12      100      180      100    115           3       True  \n",
       "13       90      130       90     95           5       True  \n",
       "14      100      120       90     95           5       True  \n",
       "15       90      170      100     95           5       True  "
      ]
     },
     "execution_count": 26,
     "metadata": {},
     "output_type": "execute_result"
    }
   ],
   "source": [
    "# 이름이 세트로 지어져있는 포켓몬들의 모임 set_names\n",
    "sn1, sn2 = names[:13], names[23:]\n",
    "set_names = pd.concat([sn1, sn2]).reset_index(drop=True)\n",
    "set_names"
   ]
  },
  {
   "cell_type": "markdown",
   "metadata": {},
   "source": [
    "어떤가요? 이들은 모두 세트로 이름이 지어져 있습니다.    \n",
    "- **\"MewTwo\", \"Latias\", \"Latios\", \"Kyogre\", \"Groudon\", \"Rayquaza\", \"Kyurem\"** 등의 이름에서부터 그 앞에 성이 붙여진다.\n",
    "- 따라서 포켓몬 원형이 전설 포켓몬일 경우 해당 포켓몬의 성이 붙으면 그 포켓몬도 전설 포켓몬이다 라는 것을 알 수 있습니다."
   ]
  },
  {
   "cell_type": "markdown",
   "metadata": {},
   "source": [
    "#### 긴 이름"
   ]
  },
  {
   "cell_type": "markdown",
   "metadata": {},
   "source": [
    "특정 단어가 포함되어있는지 여부 뿐만 아니라 이름의 길이는 어떨까요? \n",
    "데이터셋에 이름 길이 컬럼을 생성해서 비교해보도록 합니다."
   ]
  },
  {
   "cell_type": "markdown",
   "metadata": {},
   "source": [
    "apply를 활용하여 이름의 길이를 반환하여 name_count라는 이름의 새로운 컬럼으로 추가해주도록 하겠습니다. "
   ]
  },
  {
   "cell_type": "code",
   "execution_count": 28,
   "metadata": {},
   "outputs": [
    {
     "data": {
      "text/html": [
       "<div>\n",
       "<style scoped>\n",
       "    .dataframe tbody tr th:only-of-type {\n",
       "        vertical-align: middle;\n",
       "    }\n",
       "\n",
       "    .dataframe tbody tr th {\n",
       "        vertical-align: top;\n",
       "    }\n",
       "\n",
       "    .dataframe thead th {\n",
       "        text-align: right;\n",
       "    }\n",
       "</style>\n",
       "<table border=\"1\" class=\"dataframe\">\n",
       "  <thead>\n",
       "    <tr style=\"text-align: right;\">\n",
       "      <th></th>\n",
       "      <th>#</th>\n",
       "      <th>Name</th>\n",
       "      <th>Type 1</th>\n",
       "      <th>Type 2</th>\n",
       "      <th>Total</th>\n",
       "      <th>HP</th>\n",
       "      <th>Attack</th>\n",
       "      <th>Defense</th>\n",
       "      <th>Sp. Atk</th>\n",
       "      <th>Sp. Def</th>\n",
       "      <th>Speed</th>\n",
       "      <th>Generation</th>\n",
       "      <th>Legendary</th>\n",
       "      <th>name_count</th>\n",
       "    </tr>\n",
       "  </thead>\n",
       "  <tbody>\n",
       "    <tr>\n",
       "      <th>0</th>\n",
       "      <td>144</td>\n",
       "      <td>Articuno</td>\n",
       "      <td>Ice</td>\n",
       "      <td>Flying</td>\n",
       "      <td>580</td>\n",
       "      <td>90</td>\n",
       "      <td>85</td>\n",
       "      <td>100</td>\n",
       "      <td>95</td>\n",
       "      <td>125</td>\n",
       "      <td>85</td>\n",
       "      <td>1</td>\n",
       "      <td>True</td>\n",
       "      <td>8</td>\n",
       "    </tr>\n",
       "    <tr>\n",
       "      <th>1</th>\n",
       "      <td>145</td>\n",
       "      <td>Zapdos</td>\n",
       "      <td>Electric</td>\n",
       "      <td>Flying</td>\n",
       "      <td>580</td>\n",
       "      <td>90</td>\n",
       "      <td>90</td>\n",
       "      <td>85</td>\n",
       "      <td>125</td>\n",
       "      <td>90</td>\n",
       "      <td>100</td>\n",
       "      <td>1</td>\n",
       "      <td>True</td>\n",
       "      <td>6</td>\n",
       "    </tr>\n",
       "    <tr>\n",
       "      <th>2</th>\n",
       "      <td>146</td>\n",
       "      <td>Moltres</td>\n",
       "      <td>Fire</td>\n",
       "      <td>Flying</td>\n",
       "      <td>580</td>\n",
       "      <td>90</td>\n",
       "      <td>100</td>\n",
       "      <td>90</td>\n",
       "      <td>125</td>\n",
       "      <td>85</td>\n",
       "      <td>90</td>\n",
       "      <td>1</td>\n",
       "      <td>True</td>\n",
       "      <td>7</td>\n",
       "    </tr>\n",
       "    <tr>\n",
       "      <th>3</th>\n",
       "      <td>150</td>\n",
       "      <td>Mewtwo</td>\n",
       "      <td>Psychic</td>\n",
       "      <td>NaN</td>\n",
       "      <td>680</td>\n",
       "      <td>106</td>\n",
       "      <td>110</td>\n",
       "      <td>90</td>\n",
       "      <td>154</td>\n",
       "      <td>90</td>\n",
       "      <td>130</td>\n",
       "      <td>1</td>\n",
       "      <td>True</td>\n",
       "      <td>6</td>\n",
       "    </tr>\n",
       "    <tr>\n",
       "      <th>4</th>\n",
       "      <td>150</td>\n",
       "      <td>MewtwoMega Mewtwo X</td>\n",
       "      <td>Psychic</td>\n",
       "      <td>Fighting</td>\n",
       "      <td>780</td>\n",
       "      <td>106</td>\n",
       "      <td>190</td>\n",
       "      <td>100</td>\n",
       "      <td>154</td>\n",
       "      <td>100</td>\n",
       "      <td>130</td>\n",
       "      <td>1</td>\n",
       "      <td>True</td>\n",
       "      <td>19</td>\n",
       "    </tr>\n",
       "  </tbody>\n",
       "</table>\n",
       "</div>"
      ],
      "text/plain": [
       "     #                 Name    Type 1    Type 2  Total   HP  Attack  Defense  \\\n",
       "0  144             Articuno       Ice    Flying    580   90      85      100   \n",
       "1  145               Zapdos  Electric    Flying    580   90      90       85   \n",
       "2  146              Moltres      Fire    Flying    580   90     100       90   \n",
       "3  150               Mewtwo   Psychic       NaN    680  106     110       90   \n",
       "4  150  MewtwoMega Mewtwo X   Psychic  Fighting    780  106     190      100   \n",
       "\n",
       "   Sp. Atk  Sp. Def  Speed  Generation  Legendary  name_count  \n",
       "0       95      125     85           1       True           8  \n",
       "1      125       90    100           1       True           6  \n",
       "2      125       85     90           1       True           7  \n",
       "3      154       90    130           1       True           6  \n",
       "4      154      100    130           1       True          19  "
      ]
     },
     "execution_count": 28,
     "metadata": {},
     "output_type": "execute_result"
    }
   ],
   "source": [
    "# legendary에 이름 길이 컬럼 생성\n",
    "legendary[\"name_count\"] = legendary[\"Name\"].apply(lambda i: len(i))\n",
    "legendary.head()"
   ]
  },
  {
   "cell_type": "code",
   "execution_count": 29,
   "metadata": {},
   "outputs": [
    {
     "data": {
      "text/html": [
       "<div>\n",
       "<style scoped>\n",
       "    .dataframe tbody tr th:only-of-type {\n",
       "        vertical-align: middle;\n",
       "    }\n",
       "\n",
       "    .dataframe tbody tr th {\n",
       "        vertical-align: top;\n",
       "    }\n",
       "\n",
       "    .dataframe thead th {\n",
       "        text-align: right;\n",
       "    }\n",
       "</style>\n",
       "<table border=\"1\" class=\"dataframe\">\n",
       "  <thead>\n",
       "    <tr style=\"text-align: right;\">\n",
       "      <th></th>\n",
       "      <th>#</th>\n",
       "      <th>Name</th>\n",
       "      <th>Type 1</th>\n",
       "      <th>Type 2</th>\n",
       "      <th>Total</th>\n",
       "      <th>HP</th>\n",
       "      <th>Attack</th>\n",
       "      <th>Defense</th>\n",
       "      <th>Sp. Atk</th>\n",
       "      <th>Sp. Def</th>\n",
       "      <th>Speed</th>\n",
       "      <th>Generation</th>\n",
       "      <th>Legendary</th>\n",
       "      <th>name_count</th>\n",
       "    </tr>\n",
       "  </thead>\n",
       "  <tbody>\n",
       "    <tr>\n",
       "      <th>0</th>\n",
       "      <td>144</td>\n",
       "      <td>Articuno</td>\n",
       "      <td>Ice</td>\n",
       "      <td>Flying</td>\n",
       "      <td>580</td>\n",
       "      <td>90</td>\n",
       "      <td>85</td>\n",
       "      <td>100</td>\n",
       "      <td>95</td>\n",
       "      <td>125</td>\n",
       "      <td>85</td>\n",
       "      <td>1</td>\n",
       "      <td>True</td>\n",
       "      <td>8</td>\n",
       "    </tr>\n",
       "    <tr>\n",
       "      <th>1</th>\n",
       "      <td>145</td>\n",
       "      <td>Zapdos</td>\n",
       "      <td>Electric</td>\n",
       "      <td>Flying</td>\n",
       "      <td>580</td>\n",
       "      <td>90</td>\n",
       "      <td>90</td>\n",
       "      <td>85</td>\n",
       "      <td>125</td>\n",
       "      <td>90</td>\n",
       "      <td>100</td>\n",
       "      <td>1</td>\n",
       "      <td>True</td>\n",
       "      <td>6</td>\n",
       "    </tr>\n",
       "    <tr>\n",
       "      <th>2</th>\n",
       "      <td>146</td>\n",
       "      <td>Moltres</td>\n",
       "      <td>Fire</td>\n",
       "      <td>Flying</td>\n",
       "      <td>580</td>\n",
       "      <td>90</td>\n",
       "      <td>100</td>\n",
       "      <td>90</td>\n",
       "      <td>125</td>\n",
       "      <td>85</td>\n",
       "      <td>90</td>\n",
       "      <td>1</td>\n",
       "      <td>True</td>\n",
       "      <td>7</td>\n",
       "    </tr>\n",
       "    <tr>\n",
       "      <th>3</th>\n",
       "      <td>150</td>\n",
       "      <td>Mewtwo</td>\n",
       "      <td>Psychic</td>\n",
       "      <td>NaN</td>\n",
       "      <td>680</td>\n",
       "      <td>106</td>\n",
       "      <td>110</td>\n",
       "      <td>90</td>\n",
       "      <td>154</td>\n",
       "      <td>90</td>\n",
       "      <td>130</td>\n",
       "      <td>1</td>\n",
       "      <td>True</td>\n",
       "      <td>6</td>\n",
       "    </tr>\n",
       "    <tr>\n",
       "      <th>4</th>\n",
       "      <td>150</td>\n",
       "      <td>MewtwoMega Mewtwo X</td>\n",
       "      <td>Psychic</td>\n",
       "      <td>Fighting</td>\n",
       "      <td>780</td>\n",
       "      <td>106</td>\n",
       "      <td>190</td>\n",
       "      <td>100</td>\n",
       "      <td>154</td>\n",
       "      <td>100</td>\n",
       "      <td>130</td>\n",
       "      <td>1</td>\n",
       "      <td>True</td>\n",
       "      <td>19</td>\n",
       "    </tr>\n",
       "  </tbody>\n",
       "</table>\n",
       "</div>"
      ],
      "text/plain": [
       "     #                 Name    Type 1    Type 2  Total   HP  Attack  Defense  \\\n",
       "0  144             Articuno       Ice    Flying    580   90      85      100   \n",
       "1  145               Zapdos  Electric    Flying    580   90      90       85   \n",
       "2  146              Moltres      Fire    Flying    580   90     100       90   \n",
       "3  150               Mewtwo   Psychic       NaN    680  106     110       90   \n",
       "4  150  MewtwoMega Mewtwo X   Psychic  Fighting    780  106     190      100   \n",
       "\n",
       "   Sp. Atk  Sp. Def  Speed  Generation  Legendary  name_count  \n",
       "0       95      125     85           1       True           8  \n",
       "1      125       90    100           1       True           6  \n",
       "2      125       85     90           1       True           7  \n",
       "3      154       90    130           1       True           6  \n",
       "4      154      100    130           1       True          19  "
      ]
     },
     "execution_count": 29,
     "metadata": {},
     "output_type": "execute_result"
    }
   ],
   "source": [
    "# ordinary에 이름 길이 컬럼 생성\n",
    "ordinary[\"name_count\"] = ordinary[\"Name\"].apply(lambda i: len(i))\n",
    "legendary.head()"
   ]
  },
  {
   "cell_type": "markdown",
   "metadata": {},
   "source": [
    "그렇다면 새롭게 추가한 이 `name_count` 컬럼은 어떤 특징을 갖게 될까요? 직접 그래프로 그려 시각화해보도록 하겠습니다. "
   ]
  },
  {
   "cell_type": "code",
   "execution_count": 30,
   "metadata": {},
   "outputs": [
    {
     "data": {
      "image/png": "[encoded data removed]",
      "text/plain": [
       "<matplotlib.figure.Figure at 0x7efe7a736860>"
      ]
     },
     "metadata": {
      "needs_background": "light"
     },
     "output_type": "display_data"
    }
   ],
   "source": [
    "# 새롭게 추가한 이름 길이 컬럼 시각화\n",
    "plt.figure(figsize=(18,10))\n",
    "\n",
    "plt.subplot(211)\n",
    "sns.countplot(data = legendary, x = \"name_count\")\n",
    "plt.title(\"Lengendary\")\n",
    "\n",
    "plt.subplot(212)\n",
    "sns.countplot(data = ordinary, x = \"name_count\")\n",
    "plt.title(\"Ordinary\")\n",
    "plt.show()\n"
   ]
  },
  {
   "cell_type": "markdown",
   "metadata": {},
   "source": [
    "- 그래프를 통해 확인한 결과 **전설의 포켓몬은 16 이상의 긴 이름을 가진 포켓몬이 많은** 반면, **일반 포켓몬은 10 이상의 길이를 가지는 이름의 빈도가 아주 낮습니다.**"
   ]
  },
  {
   "cell_type": "code",
   "execution_count": 31,
   "metadata": {},
   "outputs": [
    {
     "name": "stdout",
     "output_type": "stream",
     "text": [
      "41.54 %\n"
     ]
    }
   ],
   "source": [
    "# 전설의 포켓몬의 이름이 10 이상일 확률\n",
    "print(round(len(legendary[legendary[\"name_count\"] > 9]) / len(legendary) * 100, 2), \"%\")"
   ]
  },
  {
   "cell_type": "code",
   "execution_count": 32,
   "metadata": {},
   "outputs": [
    {
     "name": "stdout",
     "output_type": "stream",
     "text": [
      "15.65 %\n"
     ]
    }
   ],
   "source": [
    "# 일반 포켓몬의 이름이 10 이상일 확률\n",
    "print(round(len(ordinary[ordinary[\"name_count\"] > 9]) / len(ordinary) * 100, 2), \"%\")"
   ]
  },
  {
   "cell_type": "markdown",
   "metadata": {},
   "source": [
    "- **전설의 포켓몬의 이름이 10 이상일 확률은 41%** 를 넘는 반면, **일반 포켓몬의 이름이 10 이상일 확률은 약 16%** 밖에 안됨을 확인할 수 있습니다!   \n",
    "- 이는 아주 큰 차이이므로 legendary인지 아닌지를 구분하는데에 큰 의미를 가집니다."
   ]
  },
  {
   "cell_type": "markdown",
   "metadata": {},
   "source": [
    "---"
   ]
  },
  {
   "cell_type": "markdown",
   "metadata": {},
   "source": [
    "### (3) 세,네 번째 컬럼 `Type 1` & `Type 2` : 포켓몬의 속성"
   ]
  },
  {
   "cell_type": "markdown",
   "metadata": {},
   "source": [
    "3번째, 4번째 컬럼인 Type 1과 Type 2 컬럼은 동일하게 포켓몬의 속성을 나타내고 있기 때문에 같이 살펴보겠습니다.    \n",
    "두 마리의 포켓몬을 한 번 뽑아볼까요?"
   ]
  },
  {
   "cell_type": "code",
   "execution_count": 33,
   "metadata": {},
   "outputs": [
    {
     "data": {
      "text/html": [
       "<div>\n",
       "<style scoped>\n",
       "    .dataframe tbody tr th:only-of-type {\n",
       "        vertical-align: middle;\n",
       "    }\n",
       "\n",
       "    .dataframe tbody tr th {\n",
       "        vertical-align: top;\n",
       "    }\n",
       "\n",
       "    .dataframe thead th {\n",
       "        text-align: right;\n",
       "    }\n",
       "</style>\n",
       "<table border=\"1\" class=\"dataframe\">\n",
       "  <thead>\n",
       "    <tr style=\"text-align: right;\">\n",
       "      <th></th>\n",
       "      <th>#</th>\n",
       "      <th>Name</th>\n",
       "      <th>Type 1</th>\n",
       "      <th>Type 2</th>\n",
       "      <th>Total</th>\n",
       "      <th>HP</th>\n",
       "      <th>Attack</th>\n",
       "      <th>Defense</th>\n",
       "      <th>Sp. Atk</th>\n",
       "      <th>Sp. Def</th>\n",
       "      <th>Speed</th>\n",
       "      <th>Generation</th>\n",
       "      <th>Legendary</th>\n",
       "    </tr>\n",
       "  </thead>\n",
       "  <tbody>\n",
       "    <tr>\n",
       "      <th>6</th>\n",
       "      <td>6</td>\n",
       "      <td>Charizard</td>\n",
       "      <td>Fire</td>\n",
       "      <td>Flying</td>\n",
       "      <td>534</td>\n",
       "      <td>78</td>\n",
       "      <td>84</td>\n",
       "      <td>78</td>\n",
       "      <td>109</td>\n",
       "      <td>85</td>\n",
       "      <td>100</td>\n",
       "      <td>1</td>\n",
       "      <td>False</td>\n",
       "    </tr>\n",
       "    <tr>\n",
       "      <th>10</th>\n",
       "      <td>8</td>\n",
       "      <td>Wartortle</td>\n",
       "      <td>Water</td>\n",
       "      <td>NaN</td>\n",
       "      <td>405</td>\n",
       "      <td>59</td>\n",
       "      <td>63</td>\n",
       "      <td>80</td>\n",
       "      <td>65</td>\n",
       "      <td>80</td>\n",
       "      <td>58</td>\n",
       "      <td>1</td>\n",
       "      <td>False</td>\n",
       "    </tr>\n",
       "  </tbody>\n",
       "</table>\n",
       "</div>"
      ],
      "text/plain": [
       "    #       Name Type 1  Type 2  Total  HP  Attack  Defense  Sp. Atk  Sp. Def  \\\n",
       "6   6  Charizard   Fire  Flying    534  78      84       78      109       85   \n",
       "10  8  Wartortle  Water     NaN    405  59      63       80       65       80   \n",
       "\n",
       "    Speed  Generation  Legendary  \n",
       "6     100           1      False  \n",
       "10     58           1      False  "
      ]
     },
     "execution_count": 33,
     "metadata": {},
     "output_type": "execute_result"
    }
   ],
   "source": [
    "# 두 개의 데이터를 확인해보겠습니다.\n",
    "pkemon.loc[[6, 10]]"
   ]
  },
  {
   "cell_type": "markdown",
   "metadata": {},
   "source": [
    "- 포켓몬이 가지는 속성은 **기본적으로 하나, 또는 최대 두 개까지** 가질 수 있는 것 같군요.  "
   ]
  },
  {
   "cell_type": "markdown",
   "metadata": {},
   "source": [
    "그렇다면, 속성의 종류는 총 몇 가지인지 알아봅시다."
   ]
  },
  {
   "cell_type": "code",
   "execution_count": 34,
   "metadata": {},
   "outputs": [
    {
     "data": {
      "text/plain": [
       "(18, 19)"
      ]
     },
     "execution_count": 34,
     "metadata": {},
     "output_type": "execute_result"
    }
   ],
   "source": [
    "# 속성의 종류를 확인해봅시다.\n",
    "len(pkemon[\"Type 1\"].unique()), len(pkemon[\"Type 2\"].unique()) "
   ]
  },
  {
   "cell_type": "code",
   "execution_count": 36,
   "metadata": {},
   "outputs": [
    {
     "data": {
      "text/plain": [
       "{nan}"
      ]
     },
     "execution_count": 36,
     "metadata": {},
     "output_type": "execute_result"
    }
   ],
   "source": [
    "# 2번 속성이 더 많은 이유는 무엇일까요?\n",
    "set(pkemon[\"Type 2\"]) - set(pkemon[\"Type 1\"])"
   ]
  },
  {
   "cell_type": "markdown",
   "metadata": {},
   "source": [
    "`Nan`값임을 알 수 있고, 따라서 그 외의 나머지 18가지 속성은 같은 종류로 데이터가 들어가 있음을 알 수 있습니다."
   ]
  },
  {
   "cell_type": "code",
   "execution_count": 37,
   "metadata": {},
   "outputs": [
    {
     "name": "stdout",
     "output_type": "stream",
     "text": [
      "18\n",
      "['Grass', 'Fire', 'Water', 'Bug', 'Normal', 'Poison', 'Electric', 'Ground', 'Fairy', 'Fighting', 'Psychic', 'Rock', 'Ghost', 'Ice', 'Dragon', 'Dark', 'Steel', 'Flying']\n"
     ]
    }
   ],
   "source": [
    "# 모든 타입을 types 변수에 저장\n",
    "types = list(pkemon[\"Type 1\"].unique())\n",
    "print(len(types))\n",
    "print(types)"
   ]
  },
  {
   "cell_type": "markdown",
   "metadata": {},
   "source": [
    "그렇다면 Type를 하나만 가지고 있는 포켓몬은 몇 마리일까요?"
   ]
  },
  {
   "cell_type": "code",
   "execution_count": 38,
   "metadata": {},
   "outputs": [
    {
     "data": {
      "text/plain": [
       "386"
      ]
     },
     "execution_count": 38,
     "metadata": {},
     "output_type": "execute_result"
    }
   ],
   "source": [
    "# Type 2가 NaN값인 데이터의 개수\n",
    "len(pkemon[pkemon[\"Type 2\"].isna()])"
   ]
  },
  {
   "cell_type": "markdown",
   "metadata": {},
   "source": [
    "총 386개의 포켓몬은 속성을 하나만 가지고, 나머지는 두 개의 속성을 가지는군요!\n",
    "\n",
    "그렇다면 Type을 두개 모두 가지고 있을 때 전설 포켓몬일 확률이 높은지도 함께 계산해볼까요?"
   ]
  },
  {
   "cell_type": "code",
   "execution_count": 39,
   "metadata": {},
   "outputs": [
    {
     "data": {
      "text/plain": [
       "40"
      ]
     },
     "execution_count": 39,
     "metadata": {},
     "output_type": "execute_result"
    }
   ],
   "source": [
    "# 전설 포켓몬 중 두개의 Type을 모두 가지고 있는 경우\n",
    "legendary['Type 2'].notnull().sum()"
   ]
  },
  {
   "cell_type": "markdown",
   "metadata": {},
   "source": [
    "#### `Type 1` 데이터 분포 plot\n",
    "일반 포켓몬과 전설 포켓몬의 속성 분포가 각각 어떤지 확인해보겠습니다.      "
   ]
  },
  {
   "cell_type": "code",
   "execution_count": 41,
   "metadata": {},
   "outputs": [
    {
     "data": {
      "image/png": "[encoded data removed]",
      "text/plain": [
       "<matplotlib.figure.Figure at 0x7efe785fa4a8>"
      ]
     },
     "metadata": {
      "needs_background": "light"
     },
     "output_type": "display_data"
    }
   ],
   "source": [
    "# Type 1 분포 시각화하기\n",
    "plt.figure(figsize=(18,10))\n",
    "\n",
    "plt.subplot(211)\n",
    "sns.countplot(data = pkemon, x = \"Type 1\", hue = \"Legendary\", order = types)\n",
    "plt.title('All Pokemon')\n",
    "\n",
    "plt.subplot(212)\n",
    "sns.countplot(data = legendary, x = \"Type 1\", order = types)\n",
    "plt.title('Legendary Pokemon')\n",
    "\n",
    "plt.show()"
   ]
  },
  {
   "cell_type": "markdown",
   "metadata": {},
   "source": [
    "그렇다면, 피벗테이블로 각 속성에 전설 포켓몬들이 몇 퍼센트씩 있는지 확인해봅시다."
   ]
  },
  {
   "cell_type": "code",
   "execution_count": 42,
   "metadata": {},
   "outputs": [
    {
     "data": {
      "text/html": [
       "<div>\n",
       "<style scoped>\n",
       "    .dataframe tbody tr th:only-of-type {\n",
       "        vertical-align: middle;\n",
       "    }\n",
       "\n",
       "    .dataframe tbody tr th {\n",
       "        vertical-align: top;\n",
       "    }\n",
       "\n",
       "    .dataframe thead th {\n",
       "        text-align: right;\n",
       "    }\n",
       "</style>\n",
       "<table border=\"1\" class=\"dataframe\">\n",
       "  <thead>\n",
       "    <tr style=\"text-align: right;\">\n",
       "      <th>Type 1</th>\n",
       "      <th>Flying</th>\n",
       "      <th>Dragon</th>\n",
       "      <th>Psychic</th>\n",
       "      <th>Steel</th>\n",
       "      <th>Ground</th>\n",
       "      <th>Fire</th>\n",
       "      <th>Electric</th>\n",
       "      <th>Rock</th>\n",
       "      <th>Ice</th>\n",
       "      <th>Dark</th>\n",
       "      <th>Ghost</th>\n",
       "      <th>Fairy</th>\n",
       "      <th>Grass</th>\n",
       "      <th>Water</th>\n",
       "      <th>Normal</th>\n",
       "      <th>Poison</th>\n",
       "      <th>Fighting</th>\n",
       "      <th>Bug</th>\n",
       "    </tr>\n",
       "  </thead>\n",
       "  <tbody>\n",
       "    <tr>\n",
       "      <th>Legendary</th>\n",
       "      <td>0.5</td>\n",
       "      <td>0.375</td>\n",
       "      <td>0.245614</td>\n",
       "      <td>0.148148</td>\n",
       "      <td>0.125</td>\n",
       "      <td>0.096154</td>\n",
       "      <td>0.090909</td>\n",
       "      <td>0.090909</td>\n",
       "      <td>0.083333</td>\n",
       "      <td>0.064516</td>\n",
       "      <td>0.0625</td>\n",
       "      <td>0.058824</td>\n",
       "      <td>0.042857</td>\n",
       "      <td>0.035714</td>\n",
       "      <td>0.020408</td>\n",
       "      <td>0.0</td>\n",
       "      <td>0.0</td>\n",
       "      <td>0.0</td>\n",
       "    </tr>\n",
       "  </tbody>\n",
       "</table>\n",
       "</div>"
      ],
      "text/plain": [
       "Type 1     Flying  Dragon   Psychic     Steel  Ground      Fire  Electric  \\\n",
       "Legendary     0.5   0.375  0.245614  0.148148   0.125  0.096154  0.090909   \n",
       "\n",
       "Type 1         Rock       Ice      Dark   Ghost     Fairy     Grass     Water  \\\n",
       "Legendary  0.090909  0.083333  0.064516  0.0625  0.058824  0.042857  0.035714   \n",
       "\n",
       "Type 1       Normal  Poison  Fighting  Bug  \n",
       "Legendary  0.020408     0.0       0.0  0.0  "
      ]
     },
     "execution_count": 42,
     "metadata": {},
     "output_type": "execute_result"
    }
   ],
   "source": [
    "pd.pivot_table(pkemon, index=\"Type 1\", values=\"Legendary\").sort_values(by=[\"Legendary\"], ascending=False).T"
   ]
  },
  {
   "cell_type": "markdown",
   "metadata": {},
   "source": [
    "#### `Type 2` 데이터 분포 plot\n",
    "Type 2는 어떨까요?    \n",
    "참고로, Type 2에는 NaN(결측값)이 존재했었습니다. Countplot을 그릴 때에는 결측값은 자동으로 제외됩니다."
   ]
  },
  {
   "cell_type": "code",
   "execution_count": 43,
   "metadata": {},
   "outputs": [
    {
     "data": {
      "image/png": "[encoded data removed]",
      "text/plain": [
       "<matplotlib.figure.Figure at 0x7efe7846ccc0>"
      ]
     },
     "metadata": {
      "needs_background": "light"
     },
     "output_type": "display_data"
    }
   ],
   "source": [
    "# Type 2 분포 시각화하기\n",
    "plt.figure(figsize=(18,10))\n",
    "\n",
    "plt.subplot(211)\n",
    "sns.countplot(data = pkemon, x = \"Type 2\", hue = \"Legendary\", order = types)\n",
    "plt.title('All Pokemon')\n",
    "\n",
    "plt.subplot(212)\n",
    "sns.countplot(data = legendary, x = \"Type 2\", order = types)\n",
    "plt.title('Legendary Pokemon')\n",
    "\n",
    "plt.show()"
   ]
  },
  {
   "cell_type": "markdown",
   "metadata": {},
   "source": [
    "Type 2 또한 일반 포켓몬과 전설 포켓몬의 분포 차이가 보입니다.    \n",
    "\n",
    "\n",
    "역시 피벗 테이블로도 확인해볼까요?"
   ]
  },
  {
   "cell_type": "code",
   "execution_count": 44,
   "metadata": {},
   "outputs": [
    {
     "data": {
      "text/html": [
       "<div>\n",
       "<style scoped>\n",
       "    .dataframe tbody tr th:only-of-type {\n",
       "        vertical-align: middle;\n",
       "    }\n",
       "\n",
       "    .dataframe tbody tr th {\n",
       "        vertical-align: top;\n",
       "    }\n",
       "\n",
       "    .dataframe thead th {\n",
       "        text-align: right;\n",
       "    }\n",
       "</style>\n",
       "<table border=\"1\" class=\"dataframe\">\n",
       "  <thead>\n",
       "    <tr style=\"text-align: right;\">\n",
       "      <th>Type 2</th>\n",
       "      <th>Fire</th>\n",
       "      <th>Dragon</th>\n",
       "      <th>Ice</th>\n",
       "      <th>Electric</th>\n",
       "      <th>Fighting</th>\n",
       "      <th>Psychic</th>\n",
       "      <th>Flying</th>\n",
       "      <th>Fairy</th>\n",
       "      <th>Water</th>\n",
       "      <th>Ghost</th>\n",
       "      <th>Dark</th>\n",
       "      <th>Steel</th>\n",
       "      <th>Ground</th>\n",
       "      <th>Rock</th>\n",
       "      <th>Bug</th>\n",
       "      <th>Poison</th>\n",
       "      <th>Normal</th>\n",
       "      <th>Grass</th>\n",
       "    </tr>\n",
       "  </thead>\n",
       "  <tbody>\n",
       "    <tr>\n",
       "      <th>Legendary</th>\n",
       "      <td>0.25</td>\n",
       "      <td>0.222222</td>\n",
       "      <td>0.214286</td>\n",
       "      <td>0.166667</td>\n",
       "      <td>0.153846</td>\n",
       "      <td>0.151515</td>\n",
       "      <td>0.134021</td>\n",
       "      <td>0.086957</td>\n",
       "      <td>0.071429</td>\n",
       "      <td>0.071429</td>\n",
       "      <td>0.05</td>\n",
       "      <td>0.045455</td>\n",
       "      <td>0.028571</td>\n",
       "      <td>0.0</td>\n",
       "      <td>0.0</td>\n",
       "      <td>0.0</td>\n",
       "      <td>0.0</td>\n",
       "      <td>0.0</td>\n",
       "    </tr>\n",
       "  </tbody>\n",
       "</table>\n",
       "</div>"
      ],
      "text/plain": [
       "Type 2     Fire    Dragon       Ice  Electric  Fighting   Psychic    Flying  \\\n",
       "Legendary  0.25  0.222222  0.214286  0.166667  0.153846  0.151515  0.134021   \n",
       "\n",
       "Type 2        Fairy     Water     Ghost  Dark     Steel    Ground  Rock  Bug  \\\n",
       "Legendary  0.086957  0.071429  0.071429  0.05  0.045455  0.028571   0.0  0.0   \n",
       "\n",
       "Type 2     Poison  Normal  Grass  \n",
       "Legendary     0.0     0.0    0.0  "
      ]
     },
     "execution_count": 44,
     "metadata": {},
     "output_type": "execute_result"
    }
   ],
   "source": [
    "pd.pivot_table(pkemon, index=\"Type 2\", values=\"Legendary\").sort_values(by=[\"Legendary\"], ascending=False).T"
   ]
  },
  {
   "cell_type": "markdown",
   "metadata": {},
   "source": [
    "### (4) `Total` : 모든 스탯의 총합"
   ]
  },
  {
   "cell_type": "markdown",
   "metadata": {},
   "source": [
    "이번 실습에서 사용하는 데이터셋에 존재하는 포켓몬은 포켓몬의 체력인 **HP**, 물리공격력 **Attack**, 물리공격에 대한 방어력인 **Defense** , 특수공격력 (fire blast, bubble beam 등)인 **Sp. Atk** ,  특수공격에 대한 방어력인 **Sp. Def** , 포켓몬 매치에 대해 어떤 포켓몬이 먼저 공격할지를 결정(더 높은 포켓몬이 먼저 공격한다)하는 **Speed** 의 총 6가지의 스탯값을 가집니다. \n",
    "\n",
    "그리고 여기서 살펴볼 Total 컬럼은 이 6가지 속성값의 총 합입니다."
   ]
  },
  {
   "cell_type": "code",
   "execution_count": null,
   "metadata": {},
   "outputs": [],
   "source": [
    "# 6가지 전체 스탯을 stats 변수에 저장\n",
    "stats = [\"HP\", \"Attack\", \"Defense\", \"Sp. Atk\", \"Sp. Def\", \"Speed\"]"
   ]
  },
  {
   "cell_type": "markdown",
   "metadata": {},
   "source": [
    "#### `Total`값에 따른 분포 plot\n",
    "그렇다면 Total값과 전설 포켓몬과는 어떤 관계가 있는지, 해당 컬럼에 따른 전설 포켓몬의 특징을 확인해봅시다."
   ]
  },
  {
   "cell_type": "code",
   "execution_count": 46,
   "metadata": {
    "scrolled": false
   },
   "outputs": [
    {
     "data": {
      "image/png": "[encoded data removed]",
      "text/plain": [
       "<matplotlib.figure.Figure at 0x7efe77e7ac88>"
      ]
     },
     "metadata": {
      "needs_background": "light"
     },
     "output_type": "display_data"
    }
   ],
   "source": [
    "# 분포를 산점도로 표현하여 시각화해보기\n",
    "plt.figure(figsize=(16,8))\n",
    "plt.scatter(data = pkemon, x = \"Type 1\", y = \"Total\")\n",
    "plt.scatter(data = legendary, x = \"Type 1\", y = \"Total\")\n",
    "plt.show()"
   ]
  },
  {
   "cell_type": "markdown",
   "metadata": {},
   "source": [
    "먼저 전설 포켓몬들의 속성 Total값을 확인해봅시다."
   ]
  },
  {
   "cell_type": "code",
   "execution_count": 48,
   "metadata": {},
   "outputs": [
    {
     "data": {
      "image/png": "[encoded data removed]",
      "text/plain": [
       "<matplotlib.figure.Figure at 0x7efe77d686a0>"
      ]
     },
     "metadata": {
      "needs_background": "light"
     },
     "output_type": "display_data"
    }
   ],
   "source": [
    "# 전설 포켓몬 속성 Total 값 확인하기\n",
    "plt.figure(figsize=(8,6))\n",
    "\n",
    "plt.scatter(data = legendary, y = \"Type 1\", x = \"Total\")\n",
    "plt.show()"
   ]
  },
  {
   "cell_type": "markdown",
   "metadata": {},
   "source": [
    "데이터 시각화를 통해 특징이 보이는 것 같습니다.\n",
    "\n",
    "실제로 전설의 포켓몬이 가지는 Total값들의 고유값을 확인해봅시다."
   ]
  },
  {
   "cell_type": "code",
   "execution_count": 49,
   "metadata": {},
   "outputs": [
    {
     "name": "stdout",
     "output_type": "stream",
     "text": [
      "[580 680 780 600 700 670 770 720 660]\n"
     ]
    },
    {
     "data": {
      "text/plain": [
       "9"
      ]
     },
     "execution_count": 49,
     "metadata": {},
     "output_type": "execute_result"
    }
   ],
   "source": [
    "# 전설 포켓몬이 가지는 Total 고유값 확인하기\n",
    "print(legendary[\"Total\"].unique())\n",
    "len(legendary[\"Total\"].unique())"
   ]
  },
  {
   "cell_type": "markdown",
   "metadata": {},
   "source": [
    "실제로 단 9가지 값밖에 존재하지 않는군요! 그래프로도 확인해 봅시다."
   ]
  },
  {
   "cell_type": "code",
   "execution_count": 53,
   "metadata": {},
   "outputs": [
    {
     "data": {
      "image/png": "[encoded data removed]",
      "text/plain": [
       "<matplotlib.figure.Figure at 0x7efe77dc70f0>"
      ]
     },
     "metadata": {
      "needs_background": "light"
     },
     "output_type": "display_data"
    }
   ],
   "source": [
    "# 전설 포켓몬이 가지는 Total값에 대한 수 확인\n",
    "plt.figure(figsize=(8,6))\n",
    "\n",
    "sns.countplot(data = legendary, x = \"Total\")\n",
    "plt.show()"
   ]
  },
  {
   "cell_type": "markdown",
   "metadata": {},
   "source": [
    "총 65마리의 전설 포켓몬이 9개의 Total값만 가진다는 것은,"
   ]
  },
  {
   "cell_type": "code",
   "execution_count": 54,
   "metadata": {},
   "outputs": [
    {
     "data": {
      "text/plain": [
       "7.222222222222222"
      ]
     },
     "execution_count": 54,
     "metadata": {},
     "output_type": "execute_result"
    }
   ],
   "source": [
    "# Total 스탯값이 같은 전설 포켓몬 개수 확인\n",
    "65/9"
   ]
  },
  {
   "cell_type": "markdown",
   "metadata": {},
   "source": [
    "**약 7.22마리끼리는 같은 Total 스탯값을 가진다**는 의미와 같습니다. 이는 언뜻 봐도 꽤.. 높은 값인 것 같은 느낌을 주네요."
   ]
  },
  {
   "cell_type": "markdown",
   "metadata": {},
   "source": [
    "그렇다면 일반 포켓몬은 어떨까요? 같은 방법으로 다시 확인해봅시다."
   ]
  },
  {
   "cell_type": "code",
   "execution_count": 55,
   "metadata": {},
   "outputs": [
    {
     "name": "stdout",
     "output_type": "stream",
     "text": [
      "[318 405 525 625 309 534 634 314 530 630 195 205 395 495 251 349 479 579\n",
      " 253 413 262 442 288 438 320 485 300 450 275 365 505 273 323 483 299 270\n",
      " 435 245 455 490 285 305 265 290 440 500 350 555 385 510 310 400 590 390\n",
      " 335 515 410 315 325 465 352 460 475 600 328 330 480 520 425 340 345 295\n",
      " 200 540 640 535 355 615 420 215 415 250 218 210 470 280 610 360 180 430\n",
      " 336 380 700 635 220 240 198 278 518 618 269 414 670 266 456 236 237 474\n",
      " 190 375 260 575 302 467 560 458 468 308 565 580 194 384 263 363 523 224\n",
      " 424 244 482 348 498 452 329 411 454 334 494 594 545 528 418 255 370 281\n",
      " 446 316 292 487 264 358 488 497 313 508 445 294 509 351 519 461 303 401\n",
      " 567 473 428 464 319 472 489 471 484 550 307 409 423 382 499 213 369 507\n",
      " 371 552 531 466 448 341 462 306 289 481 362 521 431 304 514]\n"
     ]
    },
    {
     "data": {
      "text/plain": [
       "195"
      ]
     },
     "execution_count": 55,
     "metadata": {},
     "output_type": "execute_result"
    }
   ],
   "source": [
    "# 일반 포켓몬이 가지는 Total 고유값 확인하기\n",
    "print(ordinary[\"Total\"].unique())\n",
    "len(ordinary[\"Total\"].unique())"
   ]
  },
  {
   "cell_type": "code",
   "execution_count": 56,
   "metadata": {},
   "outputs": [
    {
     "data": {
      "image/png": "[encoded data removed]",
      "text/plain": [
       "<matplotlib.figure.Figure at 0x7efe77e00d30>"
      ]
     },
     "metadata": {
      "needs_background": "light"
     },
     "output_type": "display_data"
    }
   ],
   "source": [
    "# 일반 포켓몬이 가지는 Total값에 대한 개수 시각화를 통해 확인하기\n",
    "plt.figure(figsize=(8,6))\n",
    "\n",
    "sns.countplot(data = ordinary, x = \"Total\")\n",
    "plt.show()"
   ]
  },
  {
   "cell_type": "markdown",
   "metadata": {},
   "source": [
    "일반 포켓몬은 총 195개의 Total 속성값을 가지고, 전체 일반 포켓몬은 (800 - 65), 즉 735마리이므로,"
   ]
  },
  {
   "cell_type": "code",
   "execution_count": 57,
   "metadata": {},
   "outputs": [
    {
     "data": {
      "text/plain": [
       "3.769230769230769"
      ]
     },
     "execution_count": 57,
     "metadata": {},
     "output_type": "execute_result"
    }
   ],
   "source": [
    "# Total 스탯값이 같은 일반 포켓몬 개수 확인\n",
    "735/195"
   ]
  },
  {
   "cell_type": "markdown",
   "metadata": {},
   "source": [
    "**약 3.77마리만 같은 Total 스탯값을 가지는군요.**   "
   ]
  },
  {
   "cell_type": "markdown",
   "metadata": {},
   "source": [
    "### (5) Stats: `HP`, `Attack`, `Defense`, `Sp. Atk`, `Sp. Def`, `Speed`"
   ]
  },
  {
   "cell_type": "markdown",
   "metadata": {},
   "source": [
    "그렇다면 총합인 Total 뿐만 아니라 각각의 stat에 대해서는 어떻게 분포되어 있을까요?    \n",
    "subplot으로 여러 그래프를 한 번에 확인해봅시다."
   ]
  },
  {
   "cell_type": "code",
   "execution_count": 58,
   "metadata": {
    "scrolled": false
   },
   "outputs": [
    {
     "data": {
      "image/png": "[encoded data removed]",
      "text/plain": [
       "<matplotlib.figure.Figure at 0x7efe78378b38>"
      ]
     },
     "metadata": {
      "needs_background": "light"
     },
     "output_type": "display_data"
    }
   ],
   "source": [
    "# 6가지 스탯 값 시각화하기 \n",
    "plt.figure(figsize=(16,8))\n",
    "\n",
    "plt.subplot(231)\n",
    "plt.scatter(data=pkemon, y=\"Total\", x=\"HP\")\n",
    "plt.scatter(data=legendary, y=\"Total\", x=\"HP\")\n",
    "plt.title('HP')\n",
    "\n",
    "plt.subplot(232)\n",
    "plt.scatter(data=pkemon, y=\"Total\", x=\"Attack\")\n",
    "plt.scatter(data=legendary, y=\"Total\", x=\"Attack\")\n",
    "plt.title('Attack')\n",
    "\n",
    "plt.subplot(233)\n",
    "plt.scatter(data=pkemon, y=\"Total\", x=\"Defense\")\n",
    "plt.scatter(data=legendary, y=\"Total\", x=\"Defense\")\n",
    "plt.title('Defense')\n",
    "\n",
    "plt.subplot(234)\n",
    "plt.scatter(data=pkemon, y=\"Total\", x=\"Sp. Atk\")\n",
    "plt.scatter(data=legendary, y=\"Total\", x=\"Sp. Atk\")\n",
    "plt.title('Sp. Atk')\n",
    "\n",
    "plt.subplot(235)\n",
    "plt.scatter(data=pkemon, y=\"Total\", x=\"Sp. Def\")\n",
    "plt.scatter(data=legendary, y=\"Total\", x=\"Sp. Def\")\n",
    "plt.title('Sp. Def')\n",
    "\n",
    "plt.subplot(236)\n",
    "plt.scatter(data=pkemon, y=\"Total\", x=\"Speed\")\n",
    "plt.scatter(data=legendary, y=\"Total\", x=\"Speed\")\n",
    "plt.title('Speed')\n",
    "\n",
    "plt.show()"
   ]
  },
  {
   "cell_type": "markdown",
   "metadata": {},
   "source": [
    "- **`HP`, `Defense`, `Sp. Def`**\n",
    "- **`Attack`, `Sp. Atk`, `Speed`**"
   ]
  },
  {
   "cell_type": "markdown",
   "metadata": {},
   "source": [
    "### (6) `Generation` : 포켓몬의 세대"
   ]
  },
  {
   "cell_type": "markdown",
   "metadata": {},
   "source": [
    "Generation은 각 포켓몬의 \"세대\"를 나타냅니다.    \n",
    "   \n",
    "각 세대에 대한 포켓몬의 수를 확인해 봅시다."
   ]
  },
  {
   "cell_type": "code",
   "execution_count": null,
   "metadata": {},
   "outputs": [],
   "source": [
    "# 세대별 데이터 시각화 \n",
    "plt.figure(figsize=(8,6))\n",
    "\n",
    "plt.subplot(211)\n",
    "sns.countplot(data = pkemon, x = \"Generation\", hue = \"Legendary\")\n",
    "plt.title('All pokemon')\n",
    "plt.subplot(212)\n",
    "sns.countplot(data = pkemon, x = \"Generation\", hue = \"Legendary\")\n",
    "plt.title('All pokemon')"
   ]
  }
 ],
 "metadata": {
  "kernelspec": {
   "display_name": "Python 3",
   "language": "python",
   "name": "python3"
  },
  "language_info": {
   "codemirror_mode": {
    "name": "ipython",
    "version": 3
   },
   "file_extension": ".py",
   "mimetype": "text/x-python",
   "name": "python",
   "nbconvert_exporter": "python",
   "pygments_lexer": "ipython3",
   "version": "3.6.6"
  }
 },
 "nbformat": 4,
 "nbformat_minor": 2
}
